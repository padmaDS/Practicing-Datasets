{
 "cells": [
  {
   "cell_type": "code",
   "execution_count": 2,
   "id": "a00f7000",
   "metadata": {},
   "outputs": [],
   "source": [
    "l = [1,2,3,45,65,60.5,\"padma\", True, 10+4j]"
   ]
  },
  {
   "cell_type": "code",
   "execution_count": 3,
   "id": "92703a09",
   "metadata": {},
   "outputs": [
    {
     "data": {
      "text/plain": [
       "[1, 2, 3, 45, 65, 60.5, 'padma', True, (10+4j)]"
      ]
     },
     "execution_count": 3,
     "metadata": {},
     "output_type": "execute_result"
    }
   ],
   "source": [
    "l"
   ]
  },
  {
   "cell_type": "code",
   "execution_count": 4,
   "id": "a7fc68d4",
   "metadata": {},
   "outputs": [
    {
     "data": {
      "text/plain": [
       "list"
      ]
     },
     "execution_count": 4,
     "metadata": {},
     "output_type": "execute_result"
    }
   ],
   "source": [
    "type(l)"
   ]
  },
  {
   "cell_type": "code",
   "execution_count": 5,
   "id": "10a06d00",
   "metadata": {},
   "outputs": [
    {
     "data": {
      "text/plain": [
       "[1, 2, 3, 45, 65, 60.5, 'padma', True, (10+4j)]"
      ]
     },
     "execution_count": 5,
     "metadata": {},
     "output_type": "execute_result"
    }
   ],
   "source": [
    "l[0:10]"
   ]
  },
  {
   "cell_type": "code",
   "execution_count": 6,
   "id": "5ece1eac",
   "metadata": {},
   "outputs": [
    {
     "data": {
      "text/plain": [
       "[2, 3, 45, 65]"
      ]
     },
     "execution_count": 6,
     "metadata": {},
     "output_type": "execute_result"
    }
   ],
   "source": [
    "l[1:5]"
   ]
  },
  {
   "cell_type": "code",
   "execution_count": 7,
   "id": "ffa3dd47",
   "metadata": {},
   "outputs": [
    {
     "data": {
      "text/plain": [
       "[(10+4j), True, 'padma', 60.5, 65, 45, 3, 2, 1]"
      ]
     },
     "execution_count": 7,
     "metadata": {},
     "output_type": "execute_result"
    }
   ],
   "source": [
    "l[::-1]"
   ]
  },
  {
   "cell_type": "code",
   "execution_count": 8,
   "id": "06ab129c",
   "metadata": {},
   "outputs": [
    {
     "ename": "TypeError",
     "evalue": "sequence item 0: expected str instance, complex found",
     "output_type": "error",
     "traceback": [
      "\u001b[1;31m---------------------------------------------------------------------------\u001b[0m",
      "\u001b[1;31mTypeError\u001b[0m                                 Traceback (most recent call last)",
      "\u001b[1;32mC:\\Users\\SREEDH~1\\AppData\\Local\\Temp/ipykernel_9188/1316345856.py\u001b[0m in \u001b[0;36m<module>\u001b[1;34m\u001b[0m\n\u001b[1;32m----> 1\u001b[1;33m \u001b[1;34m''\u001b[0m\u001b[1;33m.\u001b[0m\u001b[0mjoin\u001b[0m\u001b[1;33m(\u001b[0m\u001b[0mreversed\u001b[0m\u001b[1;33m(\u001b[0m\u001b[0ml\u001b[0m\u001b[1;33m)\u001b[0m\u001b[1;33m)\u001b[0m\u001b[1;33m\u001b[0m\u001b[1;33m\u001b[0m\u001b[0m\n\u001b[0m",
      "\u001b[1;31mTypeError\u001b[0m: sequence item 0: expected str instance, complex found"
     ]
    }
   ],
   "source": [
    "''.join(reversed(l))"
   ]
  },
  {
   "cell_type": "code",
   "execution_count": 13,
   "id": "af24a7f9",
   "metadata": {},
   "outputs": [],
   "source": [
    "l.reverse()"
   ]
  },
  {
   "cell_type": "code",
   "execution_count": 14,
   "id": "6ab6fcdc",
   "metadata": {},
   "outputs": [
    {
     "data": {
      "text/plain": [
       "[(10+4j), True, 'padma', 60.5, 65, 45, 3, 2, 1]"
      ]
     },
     "execution_count": 14,
     "metadata": {},
     "output_type": "execute_result"
    }
   ],
   "source": [
    "l"
   ]
  },
  {
   "cell_type": "code",
   "execution_count": 15,
   "id": "b2a34c51",
   "metadata": {},
   "outputs": [],
   "source": [
    "l1.reverse()"
   ]
  },
  {
   "cell_type": "code",
   "execution_count": 16,
   "id": "b225df6f",
   "metadata": {},
   "outputs": [
    {
     "data": {
      "text/plain": [
       "[123, 675, 345, 78, 65, 89, 6, 4, 1]"
      ]
     },
     "execution_count": 16,
     "metadata": {},
     "output_type": "execute_result"
    }
   ],
   "source": [
    "l1"
   ]
  },
  {
   "cell_type": "code",
   "execution_count": 17,
   "id": "4062285f",
   "metadata": {},
   "outputs": [
    {
     "data": {
      "text/plain": [
       "False"
      ]
     },
     "execution_count": 17,
     "metadata": {},
     "output_type": "execute_result"
    }
   ],
   "source": [
    "200 in l"
   ]
  },
  {
   "cell_type": "code",
   "execution_count": 18,
   "id": "a6cade40",
   "metadata": {},
   "outputs": [
    {
     "data": {
      "text/plain": [
       "True"
      ]
     },
     "execution_count": 18,
     "metadata": {},
     "output_type": "execute_result"
    }
   ],
   "source": [
    "123 in l1"
   ]
  },
  {
   "cell_type": "code",
   "execution_count": 19,
   "id": "75812d7d",
   "metadata": {},
   "outputs": [
    {
     "data": {
      "text/plain": [
       "True"
      ]
     },
     "execution_count": 19,
     "metadata": {},
     "output_type": "execute_result"
    }
   ],
   "source": [
    "'padma' in l"
   ]
  },
  {
   "cell_type": "code",
   "execution_count": 20,
   "id": "5f1564df",
   "metadata": {},
   "outputs": [],
   "source": [
    "s = ('padma', 'papa', 'god','ineuron')"
   ]
  },
  {
   "cell_type": "code",
   "execution_count": 21,
   "id": "f33f2f60",
   "metadata": {},
   "outputs": [
    {
     "data": {
      "text/plain": [
       "'ineurongodpapapadma'"
      ]
     },
     "execution_count": 21,
     "metadata": {},
     "output_type": "execute_result"
    }
   ],
   "source": [
    "''.join(reversed(s))"
   ]
  },
  {
   "cell_type": "code",
   "execution_count": 24,
   "id": "e7c9fdaa",
   "metadata": {},
   "outputs": [
    {
     "data": {
      "text/plain": [
       "'p  a  d  m  a'"
      ]
     },
     "execution_count": 24,
     "metadata": {},
     "output_type": "execute_result"
    }
   ],
   "source": [
    "'  '.join ('padma')"
   ]
  },
  {
   "cell_type": "code",
   "execution_count": 25,
   "id": "e5a4c279",
   "metadata": {},
   "outputs": [
    {
     "data": {
      "text/plain": [
       "[(10+4j), True, 'padma', 60.5, 65, 45, 3, 2, 1]"
      ]
     },
     "execution_count": 25,
     "metadata": {},
     "output_type": "execute_result"
    }
   ],
   "source": [
    "l"
   ]
  },
  {
   "cell_type": "code",
   "execution_count": 26,
   "id": "cd2b06bb",
   "metadata": {},
   "outputs": [
    {
     "data": {
      "text/plain": [
       "[123, 675, 345, 78, 65, 89, 6, 4, 1]"
      ]
     },
     "execution_count": 26,
     "metadata": {},
     "output_type": "execute_result"
    }
   ],
   "source": [
    "l1"
   ]
  },
  {
   "cell_type": "code",
   "execution_count": 28,
   "id": "515319cc",
   "metadata": {},
   "outputs": [],
   "source": [
    "l1.sort()"
   ]
  },
  {
   "cell_type": "code",
   "execution_count": 29,
   "id": "8fbfd047",
   "metadata": {},
   "outputs": [
    {
     "data": {
      "text/plain": [
       "[1, 4, 6, 65, 78, 89, 123, 345, 675]"
      ]
     },
     "execution_count": 29,
     "metadata": {},
     "output_type": "execute_result"
    }
   ],
   "source": [
    "l1"
   ]
  },
  {
   "cell_type": "code",
   "execution_count": 30,
   "id": "e4f3cc57",
   "metadata": {},
   "outputs": [
    {
     "ename": "TypeError",
     "evalue": "can only concatenate list (not \"int\") to list",
     "output_type": "error",
     "traceback": [
      "\u001b[1;31m---------------------------------------------------------------------------\u001b[0m",
      "\u001b[1;31mTypeError\u001b[0m                                 Traceback (most recent call last)",
      "\u001b[1;32mC:\\Users\\SREEDH~1\\AppData\\Local\\Temp/ipykernel_9188/79666869.py\u001b[0m in \u001b[0;36m<module>\u001b[1;34m\u001b[0m\n\u001b[1;32m----> 1\u001b[1;33m \u001b[0ml\u001b[0m\u001b[1;33m+\u001b[0m\u001b[1;36m1\u001b[0m\u001b[1;33m\u001b[0m\u001b[1;33m\u001b[0m\u001b[0m\n\u001b[0m",
      "\u001b[1;31mTypeError\u001b[0m: can only concatenate list (not \"int\") to list"
     ]
    }
   ],
   "source": [
    "l+1"
   ]
  },
  {
   "cell_type": "code",
   "execution_count": 32,
   "id": "be44413d",
   "metadata": {},
   "outputs": [
    {
     "data": {
      "text/plain": [
       "[(10+4j), True, 'padma', 60.5, 65, 45, 3, 2, 1, 120, 456]"
      ]
     },
     "execution_count": 32,
     "metadata": {},
     "output_type": "execute_result"
    }
   ],
   "source": [
    "l+[120, 456]"
   ]
  },
  {
   "cell_type": "code",
   "execution_count": 33,
   "id": "192c4a56",
   "metadata": {},
   "outputs": [
    {
     "data": {
      "text/plain": [
       "45"
      ]
     },
     "execution_count": 33,
     "metadata": {},
     "output_type": "execute_result"
    }
   ],
   "source": [
    "l[5]"
   ]
  },
  {
   "cell_type": "code",
   "execution_count": 34,
   "id": "ab591828",
   "metadata": {},
   "outputs": [
    {
     "data": {
      "text/plain": [
       "[(10+4j),\n",
       " True,\n",
       " 'padma',\n",
       " 60.5,\n",
       " 65,\n",
       " 45,\n",
       " 3,\n",
       " 2,\n",
       " 1,\n",
       " (10+4j),\n",
       " True,\n",
       " 'padma',\n",
       " 60.5,\n",
       " 65,\n",
       " 45,\n",
       " 3,\n",
       " 2,\n",
       " 1]"
      ]
     },
     "execution_count": 34,
     "metadata": {},
     "output_type": "execute_result"
    }
   ],
   "source": [
    "l*2"
   ]
  },
  {
   "cell_type": "code",
   "execution_count": 35,
   "id": "fcd2a7c5",
   "metadata": {},
   "outputs": [
    {
     "data": {
      "text/plain": [
       "[(10+4j), True, 'padma', 60.5, 65, 45, 3, 2, 1, 'god']"
      ]
     },
     "execution_count": 35,
     "metadata": {},
     "output_type": "execute_result"
    }
   ],
   "source": [
    "l+ ['god']"
   ]
  },
  {
   "cell_type": "code",
   "execution_count": 36,
   "id": "d8e8e23b",
   "metadata": {},
   "outputs": [
    {
     "ename": "TypeError",
     "evalue": "'<' not supported between instances of 'bool' and 'complex'",
     "output_type": "error",
     "traceback": [
      "\u001b[1;31m---------------------------------------------------------------------------\u001b[0m",
      "\u001b[1;31mTypeError\u001b[0m                                 Traceback (most recent call last)",
      "\u001b[1;32mC:\\Users\\SREEDH~1\\AppData\\Local\\Temp/ipykernel_9188/1537053510.py\u001b[0m in \u001b[0;36m<module>\u001b[1;34m\u001b[0m\n\u001b[1;32m----> 1\u001b[1;33m \u001b[0mmin\u001b[0m\u001b[1;33m(\u001b[0m\u001b[0ml\u001b[0m\u001b[1;33m)\u001b[0m\u001b[1;33m\u001b[0m\u001b[1;33m\u001b[0m\u001b[0m\n\u001b[0m",
      "\u001b[1;31mTypeError\u001b[0m: '<' not supported between instances of 'bool' and 'complex'"
     ]
    }
   ],
   "source": [
    "min(l)"
   ]
  },
  {
   "cell_type": "code",
   "execution_count": 37,
   "id": "7a0fc022",
   "metadata": {},
   "outputs": [
    {
     "data": {
      "text/plain": [
       "[1, 4, 6, 65, 78, 89, 123, 345, 675]"
      ]
     },
     "execution_count": 37,
     "metadata": {},
     "output_type": "execute_result"
    }
   ],
   "source": [
    "l1"
   ]
  },
  {
   "cell_type": "code",
   "execution_count": 38,
   "id": "472019db",
   "metadata": {},
   "outputs": [
    {
     "data": {
      "text/plain": [
       "1"
      ]
     },
     "execution_count": 38,
     "metadata": {},
     "output_type": "execute_result"
    }
   ],
   "source": [
    "min(l1)"
   ]
  },
  {
   "cell_type": "code",
   "execution_count": 39,
   "id": "3dbd7e62",
   "metadata": {},
   "outputs": [
    {
     "data": {
      "text/plain": [
       "675"
      ]
     },
     "execution_count": 39,
     "metadata": {},
     "output_type": "execute_result"
    }
   ],
   "source": [
    "max(l1)"
   ]
  },
  {
   "cell_type": "code",
   "execution_count": 40,
   "id": "ac5c8a24",
   "metadata": {},
   "outputs": [],
   "source": [
    "l2 = ['god, sree, papSa, pandu']"
   ]
  },
  {
   "cell_type": "code",
   "execution_count": 41,
   "id": "97545c41",
   "metadata": {},
   "outputs": [
    {
     "data": {
      "text/plain": [
       "'god, sree, papSa, pandu'"
      ]
     },
     "execution_count": 41,
     "metadata": {},
     "output_type": "execute_result"
    }
   ],
   "source": [
    "max(l2)"
   ]
  },
  {
   "cell_type": "code",
   "execution_count": 42,
   "id": "e3e68c0e",
   "metadata": {},
   "outputs": [
    {
     "data": {
      "text/plain": [
       "'god, sree, papSa, pandu'"
      ]
     },
     "execution_count": 42,
     "metadata": {},
     "output_type": "execute_result"
    }
   ],
   "source": [
    "min(l2)"
   ]
  },
  {
   "cell_type": "code",
   "execution_count": 43,
   "id": "083ec03a",
   "metadata": {},
   "outputs": [
    {
     "data": {
      "text/plain": [
       "675"
      ]
     },
     "execution_count": 43,
     "metadata": {},
     "output_type": "execute_result"
    }
   ],
   "source": [
    "l1.pop()"
   ]
  },
  {
   "cell_type": "code",
   "execution_count": 44,
   "id": "0aaff3aa",
   "metadata": {},
   "outputs": [
    {
     "data": {
      "text/plain": [
       "[1, 4, 6, 65, 78, 89, 123, 345]"
      ]
     },
     "execution_count": 44,
     "metadata": {},
     "output_type": "execute_result"
    }
   ],
   "source": [
    "l1"
   ]
  },
  {
   "cell_type": "code",
   "execution_count": 45,
   "id": "f2f049de",
   "metadata": {},
   "outputs": [
    {
     "data": {
      "text/plain": [
       "[(10+4j), True, 'padma', 60.5, 65, 45, 3, 2, 1]"
      ]
     },
     "execution_count": 45,
     "metadata": {},
     "output_type": "execute_result"
    }
   ],
   "source": [
    "l"
   ]
  },
  {
   "cell_type": "code",
   "execution_count": 46,
   "id": "03ad91af",
   "metadata": {},
   "outputs": [
    {
     "data": {
      "text/plain": [
       "1"
      ]
     },
     "execution_count": 46,
     "metadata": {},
     "output_type": "execute_result"
    }
   ],
   "source": [
    "l.pop()"
   ]
  },
  {
   "cell_type": "code",
   "execution_count": 47,
   "id": "3c111906",
   "metadata": {},
   "outputs": [
    {
     "data": {
      "text/plain": [
       "[(10+4j), True, 'padma', 60.5, 65, 45, 3, 2]"
      ]
     },
     "execution_count": 47,
     "metadata": {},
     "output_type": "execute_result"
    }
   ],
   "source": [
    "l"
   ]
  },
  {
   "cell_type": "code",
   "execution_count": 48,
   "id": "8df42469",
   "metadata": {},
   "outputs": [],
   "source": [
    "l2 = [34, 56, 78,45,67,89,98]"
   ]
  },
  {
   "cell_type": "code",
   "execution_count": 49,
   "id": "eb3c7ac6",
   "metadata": {},
   "outputs": [],
   "source": [
    "l2.sort()"
   ]
  },
  {
   "cell_type": "code",
   "execution_count": 50,
   "id": "d2a2e07a",
   "metadata": {},
   "outputs": [
    {
     "data": {
      "text/plain": [
       "[34, 45, 56, 67, 78, 89, 98]"
      ]
     },
     "execution_count": 50,
     "metadata": {},
     "output_type": "execute_result"
    }
   ],
   "source": [
    "l2"
   ]
  },
  {
   "cell_type": "code",
   "execution_count": 51,
   "id": "a25d2a3a",
   "metadata": {},
   "outputs": [],
   "source": [
    "l2.sort(reverse=True)"
   ]
  },
  {
   "cell_type": "code",
   "execution_count": 52,
   "id": "b5513776",
   "metadata": {},
   "outputs": [
    {
     "data": {
      "text/plain": [
       "[98, 89, 78, 67, 56, 45, 34]"
      ]
     },
     "execution_count": 52,
     "metadata": {},
     "output_type": "execute_result"
    }
   ],
   "source": [
    "l2"
   ]
  },
  {
   "cell_type": "code",
   "execution_count": 53,
   "id": "5a764b0e",
   "metadata": {},
   "outputs": [],
   "source": [
    "l1 = [3,5,8,7,6,3]\n",
    "l2 = [6,7,3,5,2,1]\n",
    "l3 = [1, 4,7,8,9,2]"
   ]
  },
  {
   "cell_type": "code",
   "execution_count": 54,
   "id": "dc5809f7",
   "metadata": {},
   "outputs": [
    {
     "data": {
      "text/plain": [
       "[3, 5, 8, 7, 6, 3, 6, 7, 3, 5, 2, 1, 1, 4, 7, 8, 9, 2]"
      ]
     },
     "execution_count": 54,
     "metadata": {},
     "output_type": "execute_result"
    }
   ],
   "source": [
    "l1 + l2 + l3"
   ]
  },
  {
   "cell_type": "code",
   "execution_count": 55,
   "id": "dd47b602",
   "metadata": {},
   "outputs": [
    {
     "ename": "TypeError",
     "evalue": "can't multiply sequence by non-int of type 'list'",
     "output_type": "error",
     "traceback": [
      "\u001b[1;31m---------------------------------------------------------------------------\u001b[0m",
      "\u001b[1;31mTypeError\u001b[0m                                 Traceback (most recent call last)",
      "\u001b[1;32mC:\\Users\\SREEDH~1\\AppData\\Local\\Temp/ipykernel_9188/923220197.py\u001b[0m in \u001b[0;36m<module>\u001b[1;34m\u001b[0m\n\u001b[1;32m----> 1\u001b[1;33m \u001b[0ml1\u001b[0m\u001b[1;33m*\u001b[0m\u001b[0ml2\u001b[0m\u001b[1;33m\u001b[0m\u001b[1;33m\u001b[0m\u001b[0m\n\u001b[0m",
      "\u001b[1;31mTypeError\u001b[0m: can't multiply sequence by non-int of type 'list'"
     ]
    }
   ],
   "source": [
    "l1*l2"
   ]
  },
  {
   "cell_type": "code",
   "execution_count": 56,
   "id": "e7834cde",
   "metadata": {},
   "outputs": [],
   "source": [
    "l4 = [l1,l2,l3]"
   ]
  },
  {
   "cell_type": "code",
   "execution_count": 57,
   "id": "b8558a4f",
   "metadata": {},
   "outputs": [
    {
     "data": {
      "text/plain": [
       "[[3, 5, 8, 7, 6, 3], [6, 7, 3, 5, 2, 1], [1, 4, 7, 8, 9, 2]]"
      ]
     },
     "execution_count": 57,
     "metadata": {},
     "output_type": "execute_result"
    }
   ],
   "source": [
    "l4"
   ]
  },
  {
   "cell_type": "code",
   "execution_count": 58,
   "id": "092757b1",
   "metadata": {},
   "outputs": [
    {
     "data": {
      "text/plain": [
       "[6, 7, 3, 5, 2, 1]"
      ]
     },
     "execution_count": 58,
     "metadata": {},
     "output_type": "execute_result"
    }
   ],
   "source": [
    "l4[1]"
   ]
  },
  {
   "cell_type": "code",
   "execution_count": 59,
   "id": "6197b494",
   "metadata": {},
   "outputs": [
    {
     "data": {
      "text/plain": [
       "3"
      ]
     },
     "execution_count": 59,
     "metadata": {},
     "output_type": "execute_result"
    }
   ],
   "source": [
    "l4[1][2]"
   ]
  },
  {
   "cell_type": "code",
   "execution_count": 61,
   "id": "0c78f5af",
   "metadata": {},
   "outputs": [
    {
     "data": {
      "text/plain": [
       "0"
      ]
     },
     "execution_count": 61,
     "metadata": {},
     "output_type": "execute_result"
    }
   ],
   "source": [
    "l4.count(5)"
   ]
  },
  {
   "cell_type": "code",
   "execution_count": 65,
   "id": "0492b664",
   "metadata": {},
   "outputs": [],
   "source": [
    "l1.append('padma')"
   ]
  },
  {
   "cell_type": "code",
   "execution_count": 63,
   "id": "8db01c21",
   "metadata": {},
   "outputs": [
    {
     "data": {
      "text/plain": [
       "[3, 5, 8, 7, 6, 3, 'padma']"
      ]
     },
     "execution_count": 63,
     "metadata": {},
     "output_type": "execute_result"
    }
   ],
   "source": [
    "l1"
   ]
  },
  {
   "cell_type": "code",
   "execution_count": 66,
   "id": "37a16ca6",
   "metadata": {},
   "outputs": [],
   "source": [
    "l1.append('god')"
   ]
  },
  {
   "cell_type": "code",
   "execution_count": 67,
   "id": "43eb27d9",
   "metadata": {},
   "outputs": [
    {
     "data": {
      "text/plain": [
       "[3, 5, 8, 7, 6, 3, 'padma', 'padma', 'god']"
      ]
     },
     "execution_count": 67,
     "metadata": {},
     "output_type": "execute_result"
    }
   ],
   "source": [
    "l1"
   ]
  },
  {
   "cell_type": "code",
   "execution_count": 68,
   "id": "6e7a05e7",
   "metadata": {},
   "outputs": [],
   "source": [
    "l1.append([67,65, 'ineuron'])"
   ]
  },
  {
   "cell_type": "code",
   "execution_count": 69,
   "id": "a6145f8d",
   "metadata": {},
   "outputs": [
    {
     "data": {
      "text/plain": [
       "[3, 5, 8, 7, 6, 3, 'padma', 'padma', 'god', [67, 65, 'ineuron']]"
      ]
     },
     "execution_count": 69,
     "metadata": {},
     "output_type": "execute_result"
    }
   ],
   "source": [
    "l1"
   ]
  },
  {
   "cell_type": "code",
   "execution_count": 71,
   "id": "a009eee3",
   "metadata": {},
   "outputs": [],
   "source": [
    "l1.append([23,45,56,78])"
   ]
  },
  {
   "cell_type": "markdown",
   "id": "d85a00d6",
   "metadata": {},
   "source": [
    "# "
   ]
  },
  {
   "cell_type": "code",
   "execution_count": 72,
   "id": "25f1fdcc",
   "metadata": {},
   "outputs": [
    {
     "data": {
      "text/plain": [
       "[3,\n",
       " 5,\n",
       " 8,\n",
       " 7,\n",
       " 6,\n",
       " 3,\n",
       " 'padma',\n",
       " 'padma',\n",
       " 'god',\n",
       " [67, 65, 'ineuron'],\n",
       " [23, 45, 56, 78]]"
      ]
     },
     "execution_count": 72,
     "metadata": {},
     "output_type": "execute_result"
    }
   ],
   "source": [
    "l1"
   ]
  },
  {
   "cell_type": "code",
   "execution_count": 75,
   "id": "cd3919a2",
   "metadata": {},
   "outputs": [
    {
     "data": {
      "text/plain": [
       "[67, 65, 'ineuron']"
      ]
     },
     "execution_count": 75,
     "metadata": {},
     "output_type": "execute_result"
    }
   ],
   "source": [
    "l1[9]"
   ]
  },
  {
   "cell_type": "code",
   "execution_count": 76,
   "id": "23d8019b",
   "metadata": {},
   "outputs": [
    {
     "data": {
      "text/plain": [
       "65"
      ]
     },
     "execution_count": 76,
     "metadata": {},
     "output_type": "execute_result"
    }
   ],
   "source": [
    "l1[9][1]"
   ]
  },
  {
   "cell_type": "code",
   "execution_count": 77,
   "id": "3fb4dd82",
   "metadata": {},
   "outputs": [
    {
     "data": {
      "text/plain": [
       "[3,\n",
       " 5,\n",
       " 8,\n",
       " 7,\n",
       " 6,\n",
       " 3,\n",
       " 'padma',\n",
       " 'padma',\n",
       " 'god',\n",
       " [67, 65, 'ineuron'],\n",
       " [23, 45, 56, 78]]"
      ]
     },
     "execution_count": 77,
     "metadata": {},
     "output_type": "execute_result"
    }
   ],
   "source": [
    "l1"
   ]
  },
  {
   "cell_type": "code",
   "execution_count": 79,
   "id": "9535dcf7",
   "metadata": {},
   "outputs": [],
   "source": [
    "l2.extend('papa')"
   ]
  },
  {
   "cell_type": "markdown",
   "id": "b792d731",
   "metadata": {},
   "source": [
    "## "
   ]
  },
  {
   "cell_type": "code",
   "execution_count": 80,
   "id": "b46a6415",
   "metadata": {},
   "outputs": [
    {
     "data": {
      "text/plain": [
       "[6, 7, 3, 5, 2, 1, 'p', 'a', 'p', 'a']"
      ]
     },
     "execution_count": 80,
     "metadata": {},
     "output_type": "execute_result"
    }
   ],
   "source": [
    "l2"
   ]
  },
  {
   "cell_type": "code",
   "execution_count": 81,
   "id": "e5f6df11",
   "metadata": {},
   "outputs": [],
   "source": [
    "l2.extend([12,23,45,65])"
   ]
  },
  {
   "cell_type": "code",
   "execution_count": 82,
   "id": "528ce896",
   "metadata": {},
   "outputs": [
    {
     "data": {
      "text/plain": [
       "[6, 7, 3, 5, 2, 1, 'p', 'a', 'p', 'a', 12, 23, 45, 65]"
      ]
     },
     "execution_count": 82,
     "metadata": {},
     "output_type": "execute_result"
    }
   ],
   "source": [
    "l2"
   ]
  },
  {
   "cell_type": "code",
   "execution_count": 83,
   "id": "29d27eb1",
   "metadata": {},
   "outputs": [
    {
     "data": {
      "text/plain": [
       "1"
      ]
     },
     "execution_count": 83,
     "metadata": {},
     "output_type": "execute_result"
    }
   ],
   "source": [
    "l2.index(7)"
   ]
  },
  {
   "cell_type": "code",
   "execution_count": 84,
   "id": "e9fa792d",
   "metadata": {},
   "outputs": [
    {
     "data": {
      "text/plain": [
       "11"
      ]
     },
     "execution_count": 84,
     "metadata": {},
     "output_type": "execute_result"
    }
   ],
   "source": [
    "l2.index(23)"
   ]
  },
  {
   "cell_type": "code",
   "execution_count": 85,
   "id": "6f75ca7c",
   "metadata": {},
   "outputs": [
    {
     "data": {
      "text/plain": [
       "7"
      ]
     },
     "execution_count": 85,
     "metadata": {},
     "output_type": "execute_result"
    }
   ],
   "source": [
    "l2.index('a')"
   ]
  },
  {
   "cell_type": "code",
   "execution_count": 86,
   "id": "715a769f",
   "metadata": {},
   "outputs": [
    {
     "data": {
      "text/plain": [
       "2"
      ]
     },
     "execution_count": 86,
     "metadata": {},
     "output_type": "execute_result"
    }
   ],
   "source": [
    "l2.count('a')"
   ]
  },
  {
   "cell_type": "code",
   "execution_count": 88,
   "id": "43936673",
   "metadata": {},
   "outputs": [],
   "source": [
    "l2.insert(87, 98)"
   ]
  },
  {
   "cell_type": "markdown",
   "id": "61e3df4c",
   "metadata": {},
   "source": [
    "## "
   ]
  },
  {
   "cell_type": "code",
   "execution_count": 89,
   "id": "56dda066",
   "metadata": {},
   "outputs": [
    {
     "data": {
      "text/plain": [
       "[6, 7, 3, 5, 2, 1, 'p', 'a', 'p', 'a', 12, 23, 45, 65, 98]"
      ]
     },
     "execution_count": 89,
     "metadata": {},
     "output_type": "execute_result"
    }
   ],
   "source": [
    "l2"
   ]
  },
  {
   "cell_type": "code",
   "execution_count": 92,
   "id": "2d45e540",
   "metadata": {},
   "outputs": [],
   "source": [
    "l2.insert(65, 15)"
   ]
  },
  {
   "cell_type": "markdown",
   "id": "83204afe",
   "metadata": {},
   "source": [
    "l2"
   ]
  },
  {
   "cell_type": "code",
   "execution_count": 93,
   "id": "fb16a927",
   "metadata": {},
   "outputs": [
    {
     "data": {
      "text/plain": [
       "[6, 7, 3, 5, 2, 1, 'p', 'a', 'p', 'a', 12, 23, 45, 65, 98, 15]"
      ]
     },
     "execution_count": 93,
     "metadata": {},
     "output_type": "execute_result"
    }
   ],
   "source": [
    "l2"
   ]
  },
  {
   "cell_type": "code",
   "execution_count": 94,
   "id": "7c0b31e8",
   "metadata": {},
   "outputs": [],
   "source": [
    "l2.insert(0,43)"
   ]
  },
  {
   "cell_type": "code",
   "execution_count": 95,
   "id": "1f46621b",
   "metadata": {},
   "outputs": [
    {
     "data": {
      "text/plain": [
       "[43, 6, 7, 3, 5, 2, 1, 'p', 'a', 'p', 'a', 12, 23, 45, 65, 98, 15]"
      ]
     },
     "execution_count": 95,
     "metadata": {},
     "output_type": "execute_result"
    }
   ],
   "source": [
    "l2"
   ]
  },
  {
   "cell_type": "code",
   "execution_count": 96,
   "id": "6ee62403",
   "metadata": {},
   "outputs": [],
   "source": [
    "l2.insert(4,67)"
   ]
  },
  {
   "cell_type": "code",
   "execution_count": 97,
   "id": "f21c1989",
   "metadata": {},
   "outputs": [
    {
     "data": {
      "text/plain": [
       "[43, 6, 7, 3, 67, 5, 2, 1, 'p', 'a', 'p', 'a', 12, 23, 45, 65, 98, 15]"
      ]
     },
     "execution_count": 97,
     "metadata": {},
     "output_type": "execute_result"
    }
   ],
   "source": [
    "l2"
   ]
  },
  {
   "cell_type": "code",
   "execution_count": 98,
   "id": "f72e5147",
   "metadata": {},
   "outputs": [],
   "source": [
    "l2.insert(0, 'God')"
   ]
  },
  {
   "cell_type": "code",
   "execution_count": 99,
   "id": "3cc153dd",
   "metadata": {},
   "outputs": [
    {
     "data": {
      "text/plain": [
       "['God', 43, 6, 7, 3, 67, 5, 2, 1, 'p', 'a', 'p', 'a', 12, 23, 45, 65, 98, 15]"
      ]
     },
     "execution_count": 99,
     "metadata": {},
     "output_type": "execute_result"
    }
   ],
   "source": [
    "l2"
   ]
  },
  {
   "cell_type": "code",
   "execution_count": 100,
   "id": "230680ac",
   "metadata": {},
   "outputs": [
    {
     "data": {
      "text/plain": [
       "('padma', 'papa', 'god', 'ineuron')"
      ]
     },
     "execution_count": 100,
     "metadata": {},
     "output_type": "execute_result"
    }
   ],
   "source": [
    "s"
   ]
  },
  {
   "cell_type": "code",
   "execution_count": 103,
   "id": "a7f933c4",
   "metadata": {},
   "outputs": [
    {
     "data": {
      "text/plain": [
       "False"
      ]
     },
     "execution_count": 103,
     "metadata": {},
     "output_type": "execute_result"
    }
   ],
   "source": [
    "'god' in l2"
   ]
  },
  {
   "cell_type": "markdown",
   "id": "0738991c",
   "metadata": {},
   "source": [
    "## "
   ]
  },
  {
   "cell_type": "code",
   "execution_count": 104,
   "id": "48b9ce09",
   "metadata": {},
   "outputs": [
    {
     "data": {
      "text/plain": [
       "['God', 43, 6, 7, 3, 67, 5, 2, 1, 'p', 'a', 'p', 'a', 12, 23, 45, 65, 98, 15]"
      ]
     },
     "execution_count": 104,
     "metadata": {},
     "output_type": "execute_result"
    }
   ],
   "source": [
    "l2"
   ]
  },
  {
   "cell_type": "code",
   "execution_count": 105,
   "id": "bd139d6c",
   "metadata": {},
   "outputs": [
    {
     "data": {
      "text/plain": [
       "True"
      ]
     },
     "execution_count": 105,
     "metadata": {},
     "output_type": "execute_result"
    }
   ],
   "source": [
    "'God' in l2"
   ]
  },
  {
   "cell_type": "code",
   "execution_count": 106,
   "id": "390c47f4",
   "metadata": {},
   "outputs": [
    {
     "data": {
      "text/plain": [
       "False"
      ]
     },
     "execution_count": 106,
     "metadata": {},
     "output_type": "execute_result"
    }
   ],
   "source": [
    "'padma' in l2"
   ]
  },
  {
   "cell_type": "code",
   "execution_count": 107,
   "id": "be60329a",
   "metadata": {},
   "outputs": [
    {
     "data": {
      "text/plain": [
       "15"
      ]
     },
     "execution_count": 107,
     "metadata": {},
     "output_type": "execute_result"
    }
   ],
   "source": [
    "l2.pop()"
   ]
  },
  {
   "cell_type": "code",
   "execution_count": 109,
   "id": "e3b8f388",
   "metadata": {},
   "outputs": [
    {
     "data": {
      "text/plain": [
       "5"
      ]
     },
     "execution_count": 109,
     "metadata": {},
     "output_type": "execute_result"
    }
   ],
   "source": [
    "l2.pop(6)"
   ]
  },
  {
   "cell_type": "code",
   "execution_count": 110,
   "id": "e08a4e0a",
   "metadata": {},
   "outputs": [
    {
     "data": {
      "text/plain": [
       "['God', 43, 6, 7, 3, 67, 2, 1, 'p', 'a', 'p', 'a', 12, 23, 45, 65, 98]"
      ]
     },
     "execution_count": 110,
     "metadata": {},
     "output_type": "execute_result"
    }
   ],
   "source": [
    "l2"
   ]
  },
  {
   "cell_type": "code",
   "execution_count": 111,
   "id": "bccf5657",
   "metadata": {},
   "outputs": [],
   "source": [
    "l2.append([1,2,3])"
   ]
  },
  {
   "cell_type": "code",
   "execution_count": 112,
   "id": "799b1a3d",
   "metadata": {},
   "outputs": [
    {
     "data": {
      "text/plain": [
       "['God',\n",
       " 43,\n",
       " 6,\n",
       " 7,\n",
       " 3,\n",
       " 67,\n",
       " 2,\n",
       " 1,\n",
       " 'p',\n",
       " 'a',\n",
       " 'p',\n",
       " 'a',\n",
       " 12,\n",
       " 23,\n",
       " 45,\n",
       " 65,\n",
       " 98,\n",
       " [1, 2, 3]]"
      ]
     },
     "execution_count": 112,
     "metadata": {},
     "output_type": "execute_result"
    }
   ],
   "source": [
    "l2"
   ]
  },
  {
   "cell_type": "code",
   "execution_count": 113,
   "id": "a4c7f981",
   "metadata": {},
   "outputs": [],
   "source": [
    "l2.insert(3, [5,6,7,8])"
   ]
  },
  {
   "cell_type": "code",
   "execution_count": 114,
   "id": "9397d9ea",
   "metadata": {},
   "outputs": [
    {
     "data": {
      "text/plain": [
       "['God',\n",
       " 43,\n",
       " 6,\n",
       " [5, 6, 7, 8],\n",
       " 7,\n",
       " 3,\n",
       " 67,\n",
       " 2,\n",
       " 1,\n",
       " 'p',\n",
       " 'a',\n",
       " 'p',\n",
       " 'a',\n",
       " 12,\n",
       " 23,\n",
       " 45,\n",
       " 65,\n",
       " 98,\n",
       " [1, 2, 3]]"
      ]
     },
     "execution_count": 114,
     "metadata": {},
     "output_type": "execute_result"
    }
   ],
   "source": [
    "l2"
   ]
  },
  {
   "cell_type": "code",
   "execution_count": 115,
   "id": "b2afa87f",
   "metadata": {},
   "outputs": [
    {
     "data": {
      "text/plain": [
       "19"
      ]
     },
     "execution_count": 115,
     "metadata": {},
     "output_type": "execute_result"
    }
   ],
   "source": [
    "len(l2)"
   ]
  },
  {
   "cell_type": "code",
   "execution_count": 116,
   "id": "76b2ad81",
   "metadata": {},
   "outputs": [
    {
     "data": {
      "text/plain": [
       "list"
      ]
     },
     "execution_count": 116,
     "metadata": {},
     "output_type": "execute_result"
    }
   ],
   "source": [
    "type(l2)"
   ]
  },
  {
   "cell_type": "code",
   "execution_count": 117,
   "id": "15e32221",
   "metadata": {},
   "outputs": [
    {
     "data": {
      "text/plain": [
       "3"
      ]
     },
     "execution_count": 117,
     "metadata": {},
     "output_type": "execute_result"
    }
   ],
   "source": [
    "l2.pop(5)"
   ]
  },
  {
   "cell_type": "code",
   "execution_count": 118,
   "id": "2dcfcbb9",
   "metadata": {},
   "outputs": [
    {
     "data": {
      "text/plain": [
       "['God',\n",
       " 43,\n",
       " 6,\n",
       " [5, 6, 7, 8],\n",
       " 7,\n",
       " 67,\n",
       " 2,\n",
       " 1,\n",
       " 'p',\n",
       " 'a',\n",
       " 'p',\n",
       " 'a',\n",
       " 12,\n",
       " 23,\n",
       " 45,\n",
       " 65,\n",
       " 98,\n",
       " [1, 2, 3]]"
      ]
     },
     "execution_count": 118,
     "metadata": {},
     "output_type": "execute_result"
    }
   ],
   "source": [
    "l2"
   ]
  },
  {
   "cell_type": "code",
   "execution_count": 122,
   "id": "8f33584b",
   "metadata": {},
   "outputs": [],
   "source": [
    "l2.remove('a')"
   ]
  },
  {
   "cell_type": "code",
   "execution_count": 123,
   "id": "fe4058fb",
   "metadata": {},
   "outputs": [
    {
     "data": {
      "text/plain": [
       "['God',\n",
       " 43,\n",
       " 6,\n",
       " [5, 6, 7, 8],\n",
       " 7,\n",
       " 67,\n",
       " 2,\n",
       " 1,\n",
       " 'p',\n",
       " 'p',\n",
       " 'a',\n",
       " 12,\n",
       " 23,\n",
       " 45,\n",
       " 65,\n",
       " 98,\n",
       " [1, 2, 3]]"
      ]
     },
     "execution_count": 123,
     "metadata": {},
     "output_type": "execute_result"
    }
   ],
   "source": [
    "l2"
   ]
  },
  {
   "cell_type": "code",
   "execution_count": 124,
   "id": "2576b5b3",
   "metadata": {},
   "outputs": [],
   "source": [
    "l2.remove('p')"
   ]
  },
  {
   "cell_type": "code",
   "execution_count": 125,
   "id": "7ac626ef",
   "metadata": {},
   "outputs": [
    {
     "data": {
      "text/plain": [
       "['God',\n",
       " 43,\n",
       " 6,\n",
       " [5, 6, 7, 8],\n",
       " 7,\n",
       " 67,\n",
       " 2,\n",
       " 1,\n",
       " 'p',\n",
       " 'a',\n",
       " 12,\n",
       " 23,\n",
       " 45,\n",
       " 65,\n",
       " 98,\n",
       " [1, 2, 3]]"
      ]
     },
     "execution_count": 125,
     "metadata": {},
     "output_type": "execute_result"
    }
   ],
   "source": [
    "l2"
   ]
  },
  {
   "cell_type": "code",
   "execution_count": 126,
   "id": "ec55c19a",
   "metadata": {},
   "outputs": [],
   "source": [
    "l2.remove(7)"
   ]
  },
  {
   "cell_type": "code",
   "execution_count": 127,
   "id": "15293516",
   "metadata": {},
   "outputs": [
    {
     "data": {
      "text/plain": [
       "['God', 43, 6, [5, 6, 7, 8], 67, 2, 1, 'p', 'a', 12, 23, 45, 65, 98, [1, 2, 3]]"
      ]
     },
     "execution_count": 127,
     "metadata": {},
     "output_type": "execute_result"
    }
   ],
   "source": [
    "l2"
   ]
  },
  {
   "cell_type": "code",
   "execution_count": 128,
   "id": "49316d5c",
   "metadata": {},
   "outputs": [
    {
     "ename": "ValueError",
     "evalue": "list.remove(x): x not in list",
     "output_type": "error",
     "traceback": [
      "\u001b[1;31m---------------------------------------------------------------------------\u001b[0m",
      "\u001b[1;31mValueError\u001b[0m                                Traceback (most recent call last)",
      "\u001b[1;32mC:\\Users\\SREEDH~1\\AppData\\Local\\Temp/ipykernel_9188/3152425070.py\u001b[0m in \u001b[0;36m<module>\u001b[1;34m\u001b[0m\n\u001b[1;32m----> 1\u001b[1;33m \u001b[0ml2\u001b[0m\u001b[1;33m.\u001b[0m\u001b[0mremove\u001b[0m\u001b[1;33m(\u001b[0m\u001b[1;36m100\u001b[0m\u001b[1;33m)\u001b[0m\u001b[1;33m\u001b[0m\u001b[1;33m\u001b[0m\u001b[0m\n\u001b[0m",
      "\u001b[1;31mValueError\u001b[0m: list.remove(x): x not in list"
     ]
    }
   ],
   "source": [
    "l2.remove(100)"
   ]
  },
  {
   "cell_type": "code",
   "execution_count": 129,
   "id": "ebb2f562",
   "metadata": {},
   "outputs": [
    {
     "data": {
      "text/plain": [
       "[1, 2, 3]"
      ]
     },
     "execution_count": 129,
     "metadata": {},
     "output_type": "execute_result"
    }
   ],
   "source": [
    "l2[14]"
   ]
  },
  {
   "cell_type": "code",
   "execution_count": 130,
   "id": "7baa7a71",
   "metadata": {},
   "outputs": [
    {
     "data": {
      "text/plain": [
       "3"
      ]
     },
     "execution_count": 130,
     "metadata": {},
     "output_type": "execute_result"
    }
   ],
   "source": [
    "l2[14][2]"
   ]
  },
  {
   "cell_type": "code",
   "execution_count": 132,
   "id": "7d9e2c53",
   "metadata": {},
   "outputs": [
    {
     "data": {
      "text/plain": [
       "['God', 43, 6, [5, 6, 7, 8], 67, 2, 1, 'p', 'a', 12, 23, 45, 65, 98, [1, 2, 3]]"
      ]
     },
     "execution_count": 132,
     "metadata": {},
     "output_type": "execute_result"
    }
   ],
   "source": [
    "l2"
   ]
  },
  {
   "cell_type": "code",
   "execution_count": 133,
   "id": "786097b2",
   "metadata": {},
   "outputs": [],
   "source": [
    "l2[7] = 'padma'"
   ]
  },
  {
   "cell_type": "code",
   "execution_count": 134,
   "id": "1feb2093",
   "metadata": {},
   "outputs": [
    {
     "data": {
      "text/plain": [
       "['God',\n",
       " 43,\n",
       " 6,\n",
       " [5, 6, 7, 8],\n",
       " 67,\n",
       " 2,\n",
       " 1,\n",
       " 'padma',\n",
       " 'a',\n",
       " 12,\n",
       " 23,\n",
       " 45,\n",
       " 65,\n",
       " 98,\n",
       " [1, 2, 3]]"
      ]
     },
     "execution_count": 134,
     "metadata": {},
     "output_type": "execute_result"
    }
   ],
   "source": [
    "l2"
   ]
  },
  {
   "cell_type": "code",
   "execution_count": 135,
   "id": "0496bb1c",
   "metadata": {},
   "outputs": [
    {
     "ename": "AttributeError",
     "evalue": "'list' object has no attribute 'replace'",
     "output_type": "error",
     "traceback": [
      "\u001b[1;31m---------------------------------------------------------------------------\u001b[0m",
      "\u001b[1;31mAttributeError\u001b[0m                            Traceback (most recent call last)",
      "\u001b[1;32mC:\\Users\\SREEDH~1\\AppData\\Local\\Temp/ipykernel_9188/2456402234.py\u001b[0m in \u001b[0;36m<module>\u001b[1;34m\u001b[0m\n\u001b[1;32m----> 1\u001b[1;33m \u001b[0ml2\u001b[0m\u001b[1;33m.\u001b[0m\u001b[0mreplace\u001b[0m\u001b[1;33m(\u001b[0m\u001b[1;33m)\u001b[0m\u001b[1;33m\u001b[0m\u001b[1;33m\u001b[0m\u001b[0m\n\u001b[0m",
      "\u001b[1;31mAttributeError\u001b[0m: 'list' object has no attribute 'replace'"
     ]
    }
   ],
   "source": [
    "l2.replace()"
   ]
  },
  {
   "cell_type": "code",
   "execution_count": 138,
   "id": "50b9bf66",
   "metadata": {},
   "outputs": [],
   "source": [
    "l = [3,4,5,6,7,[23,456,67,8,78,78], [345,56,87,8,98,9], 9,(234,6657,6), {'key1': 'sudh' , 234: [23,45,656]}]"
   ]
  },
  {
   "cell_type": "code",
   "execution_count": 139,
   "id": "f8cc95ea",
   "metadata": {},
   "outputs": [
    {
     "data": {
      "text/plain": [
       "[{'key1': 'sudh', 234: [23, 45, 656]},\n",
       " (234, 6657, 6),\n",
       " 9,\n",
       " [345, 56, 87, 8, 98, 9],\n",
       " [23, 456, 67, 8, 78, 78],\n",
       " 7,\n",
       " 6,\n",
       " 5,\n",
       " 4,\n",
       " 3]"
      ]
     },
     "execution_count": 139,
     "metadata": {},
     "output_type": "execute_result"
    }
   ],
   "source": [
    "l[::-1]"
   ]
  },
  {
   "cell_type": "code",
   "execution_count": 140,
   "id": "d3867526",
   "metadata": {},
   "outputs": [],
   "source": [
    "l.reverse()"
   ]
  },
  {
   "cell_type": "code",
   "execution_count": 141,
   "id": "2bfbf53c",
   "metadata": {},
   "outputs": [
    {
     "data": {
      "text/plain": [
       "[{'key1': 'sudh', 234: [23, 45, 656]},\n",
       " (234, 6657, 6),\n",
       " 9,\n",
       " [345, 56, 87, 8, 98, 9],\n",
       " [23, 456, 67, 8, 78, 78],\n",
       " 7,\n",
       " 6,\n",
       " 5,\n",
       " 4,\n",
       " 3]"
      ]
     },
     "execution_count": 141,
     "metadata": {},
     "output_type": "execute_result"
    }
   ],
   "source": [
    "l"
   ]
  },
  {
   "cell_type": "code",
   "execution_count": 142,
   "id": "74a76598",
   "metadata": {},
   "outputs": [
    {
     "data": {
      "text/plain": [
       "[{'key1': 'sudh', 234: [23, 45, 656]},\n",
       " (234, 6657, 6),\n",
       " 9,\n",
       " [345, 56, 87, 8, 98, 9],\n",
       " [23, 456, 67, 8, 78, 78],\n",
       " 7,\n",
       " 6,\n",
       " 5,\n",
       " 4,\n",
       " 3]"
      ]
     },
     "execution_count": 142,
     "metadata": {},
     "output_type": "execute_result"
    }
   ],
   "source": [
    "l"
   ]
  },
  {
   "cell_type": "code",
   "execution_count": 143,
   "id": "47cbb51e",
   "metadata": {},
   "outputs": [],
   "source": [
    "l.reverse()"
   ]
  },
  {
   "cell_type": "code",
   "execution_count": 144,
   "id": "e49a389a",
   "metadata": {},
   "outputs": [
    {
     "data": {
      "text/plain": [
       "[3,\n",
       " 4,\n",
       " 5,\n",
       " 6,\n",
       " 7,\n",
       " [23, 456, 67, 8, 78, 78],\n",
       " [345, 56, 87, 8, 98, 9],\n",
       " 9,\n",
       " (234, 6657, 6),\n",
       " {'key1': 'sudh', 234: [23, 45, 656]}]"
      ]
     },
     "execution_count": 144,
     "metadata": {},
     "output_type": "execute_result"
    }
   ],
   "source": [
    "l"
   ]
  },
  {
   "cell_type": "code",
   "execution_count": 145,
   "id": "f2ebefdc",
   "metadata": {},
   "outputs": [
    {
     "data": {
      "text/plain": [
       "(234, 6657, 6)"
      ]
     },
     "execution_count": 145,
     "metadata": {},
     "output_type": "execute_result"
    }
   ],
   "source": [
    "l[8]"
   ]
  },
  {
   "cell_type": "code",
   "execution_count": 146,
   "id": "ed04f1d5",
   "metadata": {},
   "outputs": [
    {
     "data": {
      "text/plain": [
       "234"
      ]
     },
     "execution_count": 146,
     "metadata": {},
     "output_type": "execute_result"
    }
   ],
   "source": [
    "l[8][0]"
   ]
  },
  {
   "cell_type": "code",
   "execution_count": 147,
   "id": "d869d3d9",
   "metadata": {},
   "outputs": [
    {
     "data": {
      "text/plain": [
       "[23, 456, 67, 8, 78, 78]"
      ]
     },
     "execution_count": 147,
     "metadata": {},
     "output_type": "execute_result"
    }
   ],
   "source": [
    "l[5]"
   ]
  },
  {
   "cell_type": "code",
   "execution_count": 148,
   "id": "14301f14",
   "metadata": {},
   "outputs": [
    {
     "data": {
      "text/plain": [
       "456"
      ]
     },
     "execution_count": 148,
     "metadata": {},
     "output_type": "execute_result"
    }
   ],
   "source": [
    "l[5][1]"
   ]
  },
  {
   "cell_type": "code",
   "execution_count": 151,
   "id": "ba0c91d0",
   "metadata": {},
   "outputs": [],
   "source": [
    "l1 = l[5], l[6]"
   ]
  },
  {
   "cell_type": "markdown",
   "id": "56896ac2",
   "metadata": {},
   "source": [
    "# "
   ]
  },
  {
   "cell_type": "code",
   "execution_count": 152,
   "id": "839bb729",
   "metadata": {},
   "outputs": [
    {
     "data": {
      "text/plain": [
       "([23, 456, 67, 8, 78, 78], [345, 56, 87, 8, 98, 9])"
      ]
     },
     "execution_count": 152,
     "metadata": {},
     "output_type": "execute_result"
    }
   ],
   "source": [
    "l1"
   ]
  },
  {
   "cell_type": "code",
   "execution_count": 153,
   "id": "9f6f9e53",
   "metadata": {},
   "outputs": [
    {
     "data": {
      "text/plain": [
       "10"
      ]
     },
     "execution_count": 153,
     "metadata": {},
     "output_type": "execute_result"
    }
   ],
   "source": [
    "len(l)"
   ]
  },
  {
   "cell_type": "code",
   "execution_count": 154,
   "id": "5dab4c4d",
   "metadata": {},
   "outputs": [
    {
     "data": {
      "text/plain": [
       "{'key1': 'sudh', 234: [23, 45, 656]}"
      ]
     },
     "execution_count": 154,
     "metadata": {},
     "output_type": "execute_result"
    }
   ],
   "source": [
    "l[9]"
   ]
  },
  {
   "cell_type": "code",
   "execution_count": 210,
   "id": "34a1f880",
   "metadata": {},
   "outputs": [
    {
     "data": {
      "text/plain": [
       "'sudh'"
      ]
     },
     "execution_count": 210,
     "metadata": {},
     "output_type": "execute_result"
    }
   ],
   "source": [
    "l[9]['key1']"
   ]
  },
  {
   "cell_type": "code",
   "execution_count": 211,
   "id": "9e39dcc1",
   "metadata": {},
   "outputs": [
    {
     "data": {
      "text/plain": [
       "656"
      ]
     },
     "execution_count": 211,
     "metadata": {},
     "output_type": "execute_result"
    }
   ],
   "source": [
    "l[9][234][2]"
   ]
  },
  {
   "cell_type": "code",
   "execution_count": 213,
   "id": "371c59d3",
   "metadata": {},
   "outputs": [
    {
     "data": {
      "text/plain": [
       "('sudh', [234])"
      ]
     },
     "execution_count": 213,
     "metadata": {},
     "output_type": "execute_result"
    }
   ],
   "source": [
    "l[9]['key1'], [234]"
   ]
  },
  {
   "cell_type": "code",
   "execution_count": 214,
   "id": "5bced23a",
   "metadata": {},
   "outputs": [
    {
     "data": {
      "text/plain": [
       "'sudh'"
      ]
     },
     "execution_count": 214,
     "metadata": {},
     "output_type": "execute_result"
    }
   ],
   "source": [
    "l[9]['key1']"
   ]
  },
  {
   "cell_type": "code",
   "execution_count": 215,
   "id": "ceb14f4e",
   "metadata": {},
   "outputs": [
    {
     "data": {
      "text/plain": [
       "[23, 45, 656]"
      ]
     },
     "execution_count": 215,
     "metadata": {},
     "output_type": "execute_result"
    }
   ],
   "source": [
    "l[9][234]"
   ]
  },
  {
   "cell_type": "code",
   "execution_count": null,
   "id": "a3e7929b",
   "metadata": {},
   "outputs": [],
   "source": []
  },
  {
   "cell_type": "code",
   "execution_count": null,
   "id": "01322fa1",
   "metadata": {},
   "outputs": [],
   "source": []
  },
  {
   "cell_type": "code",
   "execution_count": null,
   "id": "74e3240a",
   "metadata": {},
   "outputs": [],
   "source": []
  },
  {
   "cell_type": "code",
   "execution_count": 158,
   "id": "0736b78e",
   "metadata": {},
   "outputs": [],
   "source": [
    "t = (4,5,6,7,'sudh', 45.67, True)"
   ]
  },
  {
   "cell_type": "code",
   "execution_count": null,
   "id": "1dc1e90c",
   "metadata": {},
   "outputs": [],
   "source": []
  },
  {
   "cell_type": "code",
   "execution_count": 159,
   "id": "b5b42cf2",
   "metadata": {},
   "outputs": [
    {
     "data": {
      "text/plain": [
       "tuple"
      ]
     },
     "execution_count": 159,
     "metadata": {},
     "output_type": "execute_result"
    }
   ],
   "source": [
    "type(t)"
   ]
  },
  {
   "cell_type": "code",
   "execution_count": 161,
   "id": "6fbb4c85",
   "metadata": {},
   "outputs": [
    {
     "data": {
      "text/plain": [
       "'sudh'"
      ]
     },
     "execution_count": 161,
     "metadata": {},
     "output_type": "execute_result"
    }
   ],
   "source": [
    "t[4]"
   ]
  },
  {
   "cell_type": "code",
   "execution_count": 162,
   "id": "10e451be",
   "metadata": {},
   "outputs": [
    {
     "data": {
      "text/plain": [
       "(4, 6, 'sudh')"
      ]
     },
     "execution_count": 162,
     "metadata": {},
     "output_type": "execute_result"
    }
   ],
   "source": [
    "t[0:5:2]"
   ]
  },
  {
   "cell_type": "code",
   "execution_count": 163,
   "id": "668a784b",
   "metadata": {},
   "outputs": [
    {
     "data": {
      "text/plain": [
       "(5, 6, 7, 'sudh', 45.67)"
      ]
     },
     "execution_count": 163,
     "metadata": {},
     "output_type": "execute_result"
    }
   ],
   "source": [
    "t[1:6]"
   ]
  },
  {
   "cell_type": "code",
   "execution_count": 164,
   "id": "3b19bbd1",
   "metadata": {},
   "outputs": [
    {
     "data": {
      "text/plain": [
       "(True, 45.67, 'sudh', 7, 6, 5, 4)"
      ]
     },
     "execution_count": 164,
     "metadata": {},
     "output_type": "execute_result"
    }
   ],
   "source": [
    "t[::-1]"
   ]
  },
  {
   "cell_type": "code",
   "execution_count": 165,
   "id": "d298425c",
   "metadata": {},
   "outputs": [
    {
     "data": {
      "text/plain": [
       "(4, 5, 6, 7, 'sudh', 45.67, True)"
      ]
     },
     "execution_count": 165,
     "metadata": {},
     "output_type": "execute_result"
    }
   ],
   "source": [
    "t[:10]"
   ]
  },
  {
   "cell_type": "code",
   "execution_count": 166,
   "id": "c79618bf",
   "metadata": {},
   "outputs": [
    {
     "data": {
      "text/plain": [
       "('sudh', 45.67, True)"
      ]
     },
     "execution_count": 166,
     "metadata": {},
     "output_type": "execute_result"
    }
   ],
   "source": [
    "t[4:20]"
   ]
  },
  {
   "cell_type": "code",
   "execution_count": 167,
   "id": "d2a3fe37",
   "metadata": {},
   "outputs": [
    {
     "ename": "TypeError",
     "evalue": "'tuple' object does not support item assignment",
     "output_type": "error",
     "traceback": [
      "\u001b[1;31m---------------------------------------------------------------------------\u001b[0m",
      "\u001b[1;31mTypeError\u001b[0m                                 Traceback (most recent call last)",
      "\u001b[1;32mC:\\Users\\SREEDH~1\\AppData\\Local\\Temp/ipykernel_9188/1010022734.py\u001b[0m in \u001b[0;36m<module>\u001b[1;34m\u001b[0m\n\u001b[1;32m----> 1\u001b[1;33m \u001b[0mt\u001b[0m\u001b[1;33m[\u001b[0m\u001b[1;36m2\u001b[0m\u001b[1;33m]\u001b[0m \u001b[1;33m=\u001b[0m \u001b[1;34m'padma'\u001b[0m\u001b[1;33m\u001b[0m\u001b[1;33m\u001b[0m\u001b[0m\n\u001b[0m",
      "\u001b[1;31mTypeError\u001b[0m: 'tuple' object does not support item assignment"
     ]
    }
   ],
   "source": [
    "t[2] = 'padma'"
   ]
  },
  {
   "cell_type": "code",
   "execution_count": 168,
   "id": "100008ed",
   "metadata": {},
   "outputs": [],
   "source": [
    "t1 = (3,4,5,6)"
   ]
  },
  {
   "cell_type": "code",
   "execution_count": 169,
   "id": "53e79a46",
   "metadata": {},
   "outputs": [
    {
     "data": {
      "text/plain": [
       "(4, 5, 6, 7, 'sudh', 45.67, True, 3, 4, 5, 6)"
      ]
     },
     "execution_count": 169,
     "metadata": {},
     "output_type": "execute_result"
    }
   ],
   "source": [
    "t+t1"
   ]
  },
  {
   "cell_type": "code",
   "execution_count": 170,
   "id": "9b8e2039",
   "metadata": {},
   "outputs": [
    {
     "data": {
      "text/plain": [
       "1"
      ]
     },
     "execution_count": 170,
     "metadata": {},
     "output_type": "execute_result"
    }
   ],
   "source": [
    "t.count(5)"
   ]
  },
  {
   "cell_type": "code",
   "execution_count": 171,
   "id": "bb40145e",
   "metadata": {},
   "outputs": [
    {
     "data": {
      "text/plain": [
       "0"
      ]
     },
     "execution_count": 171,
     "metadata": {},
     "output_type": "execute_result"
    }
   ],
   "source": [
    "t.count(10)"
   ]
  },
  {
   "cell_type": "code",
   "execution_count": 172,
   "id": "14a691d4",
   "metadata": {},
   "outputs": [
    {
     "data": {
      "text/plain": [
       "1"
      ]
     },
     "execution_count": 172,
     "metadata": {},
     "output_type": "execute_result"
    }
   ],
   "source": [
    "t.count('sudh')"
   ]
  },
  {
   "cell_type": "code",
   "execution_count": 173,
   "id": "2c966ee8",
   "metadata": {},
   "outputs": [
    {
     "data": {
      "text/plain": [
       "1"
      ]
     },
     "execution_count": 173,
     "metadata": {},
     "output_type": "execute_result"
    }
   ],
   "source": [
    "t.count(6)"
   ]
  },
  {
   "cell_type": "code",
   "execution_count": 174,
   "id": "ed1c3cf8",
   "metadata": {},
   "outputs": [
    {
     "data": {
      "text/plain": [
       "(4, 5, 6, 7, 'sudh', 45.67, True)"
      ]
     },
     "execution_count": 174,
     "metadata": {},
     "output_type": "execute_result"
    }
   ],
   "source": [
    "t"
   ]
  },
  {
   "cell_type": "code",
   "execution_count": 176,
   "id": "66481f44",
   "metadata": {},
   "outputs": [
    {
     "data": {
      "text/plain": [
       "6"
      ]
     },
     "execution_count": 176,
     "metadata": {},
     "output_type": "execute_result"
    }
   ],
   "source": [
    "t.index(True)"
   ]
  },
  {
   "cell_type": "code",
   "execution_count": 177,
   "id": "7e6e0da1",
   "metadata": {},
   "outputs": [
    {
     "data": {
      "text/plain": [
       "(4, 5, 6, 7, 'sudh', 45.67, True)"
      ]
     },
     "execution_count": 177,
     "metadata": {},
     "output_type": "execute_result"
    }
   ],
   "source": [
    "t"
   ]
  },
  {
   "cell_type": "code",
   "execution_count": 178,
   "id": "ce64351b",
   "metadata": {},
   "outputs": [
    {
     "data": {
      "text/plain": [
       "[4, 5, 6, 7, 'sudh', 45.67, True]"
      ]
     },
     "execution_count": 178,
     "metadata": {},
     "output_type": "execute_result"
    }
   ],
   "source": [
    "list(t)"
   ]
  },
  {
   "cell_type": "code",
   "execution_count": 179,
   "id": "a7d29345",
   "metadata": {},
   "outputs": [],
   "source": [
    "t2 = list(t)"
   ]
  },
  {
   "cell_type": "code",
   "execution_count": 180,
   "id": "d5442aec",
   "metadata": {},
   "outputs": [
    {
     "data": {
      "text/plain": [
       "(4, 5, 6, 7, 'sudh', 45.67, True)"
      ]
     },
     "execution_count": 180,
     "metadata": {},
     "output_type": "execute_result"
    }
   ],
   "source": [
    "tuple(t2)"
   ]
  },
  {
   "cell_type": "code",
   "execution_count": 181,
   "id": "dd3b2faa",
   "metadata": {},
   "outputs": [],
   "source": [
    "t3 = tuple(t2)"
   ]
  },
  {
   "cell_type": "code",
   "execution_count": 182,
   "id": "9bafcfde",
   "metadata": {},
   "outputs": [
    {
     "data": {
      "text/plain": [
       "(4, 5, 6, 7, 'sudh', 45.67, True)"
      ]
     },
     "execution_count": 182,
     "metadata": {},
     "output_type": "execute_result"
    }
   ],
   "source": [
    "t3"
   ]
  },
  {
   "cell_type": "code",
   "execution_count": 183,
   "id": "c37ee6ca",
   "metadata": {},
   "outputs": [
    {
     "data": {
      "text/plain": [
       "'sudh'"
      ]
     },
     "execution_count": 183,
     "metadata": {},
     "output_type": "execute_result"
    }
   ],
   "source": [
    "t3[4]"
   ]
  },
  {
   "cell_type": "code",
   "execution_count": 184,
   "id": "6c23b092",
   "metadata": {},
   "outputs": [
    {
     "data": {
      "text/plain": [
       "True"
      ]
     },
     "execution_count": 184,
     "metadata": {},
     "output_type": "execute_result"
    }
   ],
   "source": [
    "t3[6]"
   ]
  },
  {
   "cell_type": "code",
   "execution_count": 185,
   "id": "369cc91b",
   "metadata": {},
   "outputs": [
    {
     "data": {
      "text/plain": [
       "(True, 45.67, 'sudh', 7, 6, 5, 4)"
      ]
     },
     "execution_count": 185,
     "metadata": {},
     "output_type": "execute_result"
    }
   ],
   "source": [
    "t3[::-1]"
   ]
  },
  {
   "cell_type": "code",
   "execution_count": 186,
   "id": "47e3be50",
   "metadata": {},
   "outputs": [
    {
     "data": {
      "text/plain": [
       "(4, 7, True)"
      ]
     },
     "execution_count": 186,
     "metadata": {},
     "output_type": "execute_result"
    }
   ],
   "source": [
    "t3[:10:3]"
   ]
  },
  {
   "cell_type": "code",
   "execution_count": 187,
   "id": "bbd8fcb7",
   "metadata": {},
   "outputs": [
    {
     "data": {
      "text/plain": [
       "(4, 6, 'sudh', True)"
      ]
     },
     "execution_count": 187,
     "metadata": {},
     "output_type": "execute_result"
    }
   ],
   "source": [
    "t3[0: :2]"
   ]
  },
  {
   "cell_type": "code",
   "execution_count": 188,
   "id": "a96d5a36",
   "metadata": {},
   "outputs": [],
   "source": [
    "d = {}"
   ]
  },
  {
   "cell_type": "code",
   "execution_count": 190,
   "id": "614f545b",
   "metadata": {},
   "outputs": [
    {
     "data": {
      "text/plain": [
       "dict"
      ]
     },
     "execution_count": 190,
     "metadata": {},
     "output_type": "execute_result"
    }
   ],
   "source": [
    "type(d)"
   ]
  },
  {
   "cell_type": "code",
   "execution_count": 191,
   "id": "904d83b1",
   "metadata": {},
   "outputs": [
    {
     "data": {
      "text/plain": [
       "1"
      ]
     },
     "execution_count": 191,
     "metadata": {},
     "output_type": "execute_result"
    }
   ],
   "source": [
    "t3.count(7)"
   ]
  },
  {
   "cell_type": "code",
   "execution_count": 192,
   "id": "00ec249f",
   "metadata": {},
   "outputs": [
    {
     "data": {
      "text/plain": [
       "4"
      ]
     },
     "execution_count": 192,
     "metadata": {},
     "output_type": "execute_result"
    }
   ],
   "source": [
    "t3.index('sudh')"
   ]
  },
  {
   "cell_type": "code",
   "execution_count": 193,
   "id": "2884a35b",
   "metadata": {},
   "outputs": [],
   "source": [
    "d1 = {1}"
   ]
  },
  {
   "cell_type": "code",
   "execution_count": 194,
   "id": "dd63eaa5",
   "metadata": {},
   "outputs": [
    {
     "data": {
      "text/plain": [
       "set"
      ]
     },
     "execution_count": 194,
     "metadata": {},
     "output_type": "execute_result"
    }
   ],
   "source": [
    "type(d1)"
   ]
  },
  {
   "cell_type": "code",
   "execution_count": 196,
   "id": "4f1ad005",
   "metadata": {},
   "outputs": [],
   "source": [
    "d2 = {'key1' : 'value' , 234:'xyz' , 'name' : 'sudh', 'no' : 3423445}"
   ]
  },
  {
   "cell_type": "code",
   "execution_count": 197,
   "id": "10b443cf",
   "metadata": {},
   "outputs": [
    {
     "data": {
      "text/plain": [
       "{'key1': 'value', 234: 'xyz', 'name': 'sudh', 'no': 3423445}"
      ]
     },
     "execution_count": 197,
     "metadata": {},
     "output_type": "execute_result"
    }
   ],
   "source": [
    "d2"
   ]
  },
  {
   "cell_type": "code",
   "execution_count": 198,
   "id": "a01d1c2c",
   "metadata": {},
   "outputs": [
    {
     "data": {
      "text/plain": [
       "dict"
      ]
     },
     "execution_count": 198,
     "metadata": {},
     "output_type": "execute_result"
    }
   ],
   "source": [
    "type(d2)"
   ]
  },
  {
   "cell_type": "code",
   "execution_count": 199,
   "id": "302d8f84",
   "metadata": {},
   "outputs": [
    {
     "data": {
      "text/plain": [
       "'sudh'"
      ]
     },
     "execution_count": 199,
     "metadata": {},
     "output_type": "execute_result"
    }
   ],
   "source": [
    "d2['name']"
   ]
  },
  {
   "cell_type": "code",
   "execution_count": 200,
   "id": "9d4031d6",
   "metadata": {},
   "outputs": [
    {
     "data": {
      "text/plain": [
       "'value'"
      ]
     },
     "execution_count": 200,
     "metadata": {},
     "output_type": "execute_result"
    }
   ],
   "source": [
    "d2['key1']"
   ]
  },
  {
   "cell_type": "code",
   "execution_count": 201,
   "id": "5565d261",
   "metadata": {},
   "outputs": [
    {
     "data": {
      "text/plain": [
       "'xyz'"
      ]
     },
     "execution_count": 201,
     "metadata": {},
     "output_type": "execute_result"
    }
   ],
   "source": [
    "d2[234]"
   ]
  },
  {
   "cell_type": "code",
   "execution_count": 204,
   "id": "d45ce1e0",
   "metadata": {},
   "outputs": [],
   "source": [
    "d3 = {'name' : 'sudh' , 'tech' : ['python', 'ml', 'dl', 'nlp', 'cv', 'bigdata', 'data analytics']}"
   ]
  },
  {
   "cell_type": "code",
   "execution_count": 205,
   "id": "2cc2d4dc",
   "metadata": {},
   "outputs": [
    {
     "data": {
      "text/plain": [
       "{'name': 'sudh',\n",
       " 'tech': ['python', 'ml', 'dl', 'nlp', 'cv', 'bigdata', 'data analytics']}"
      ]
     },
     "execution_count": 205,
     "metadata": {},
     "output_type": "execute_result"
    }
   ],
   "source": [
    "d3"
   ]
  },
  {
   "cell_type": "code",
   "execution_count": 206,
   "id": "1c6bb8ef",
   "metadata": {},
   "outputs": [
    {
     "data": {
      "text/plain": [
       "'sudh'"
      ]
     },
     "execution_count": 206,
     "metadata": {},
     "output_type": "execute_result"
    }
   ],
   "source": [
    "d3['name']"
   ]
  },
  {
   "cell_type": "code",
   "execution_count": 207,
   "id": "ceebcaae",
   "metadata": {},
   "outputs": [
    {
     "data": {
      "text/plain": [
       "False"
      ]
     },
     "execution_count": 207,
     "metadata": {},
     "output_type": "execute_result"
    }
   ],
   "source": [
    "'python' in d3"
   ]
  },
  {
   "cell_type": "code",
   "execution_count": 208,
   "id": "93b4edaa",
   "metadata": {},
   "outputs": [
    {
     "data": {
      "text/plain": [
       "['python', 'ml', 'dl', 'nlp', 'cv', 'bigdata', 'data analytics']"
      ]
     },
     "execution_count": 208,
     "metadata": {},
     "output_type": "execute_result"
    }
   ],
   "source": [
    "d3['tech']"
   ]
  },
  {
   "cell_type": "code",
   "execution_count": 209,
   "id": "d881a1a0",
   "metadata": {},
   "outputs": [
    {
     "data": {
      "text/plain": [
       "True"
      ]
     },
     "execution_count": 209,
     "metadata": {},
     "output_type": "execute_result"
    }
   ],
   "source": [
    "'ml' in d3['tech']"
   ]
  },
  {
   "cell_type": "code",
   "execution_count": 216,
   "id": "a8dd3be4",
   "metadata": {},
   "outputs": [
    {
     "data": {
      "text/plain": [
       "{'name': 'sudh',\n",
       " 'tech': ['python', 'ml', 'dl', 'nlp', 'cv', 'bigdata', 'data analytics']}"
      ]
     },
     "execution_count": 216,
     "metadata": {},
     "output_type": "execute_result"
    }
   ],
   "source": [
    "d3"
   ]
  },
  {
   "cell_type": "code",
   "execution_count": null,
   "id": "89dc7cf8",
   "metadata": {},
   "outputs": [],
   "source": [
    "d3"
   ]
  }
 ],
 "metadata": {
  "kernelspec": {
   "display_name": "Python 3 (ipykernel)",
   "language": "python",
   "name": "python3"
  },
  "language_info": {
   "codemirror_mode": {
    "name": "ipython",
    "version": 3
   },
   "file_extension": ".py",
   "mimetype": "text/x-python",
   "name": "python",
   "nbconvert_exporter": "python",
   "pygments_lexer": "ipython3",
   "version": "3.9.7"
  }
 },
 "nbformat": 4,
 "nbformat_minor": 5
}
