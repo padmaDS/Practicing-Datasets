{
 "cells": [
  {
   "cell_type": "code",
   "execution_count": 1,
   "id": "17d5e789",
   "metadata": {},
   "outputs": [],
   "source": [
    "l = [1,2,3,4,5,6,'padma', 'god']\n",
    "l.append('papa')"
   ]
  },
  {
   "cell_type": "code",
   "execution_count": 2,
   "id": "c2695bf7",
   "metadata": {},
   "outputs": [
    {
     "data": {
      "text/plain": [
       "[1, 2, 3, 4, 5, 6, 'padma', 'god', 'papa']"
      ]
     },
     "execution_count": 2,
     "metadata": {},
     "output_type": "execute_result"
    }
   ],
   "source": [
    "l"
   ]
  },
  {
   "cell_type": "code",
   "execution_count": 3,
   "id": "05a459b9",
   "metadata": {},
   "outputs": [],
   "source": [
    "l.append([12,13,14,15,'pandu'])"
   ]
  },
  {
   "cell_type": "code",
   "execution_count": 4,
   "id": "ec3652e2",
   "metadata": {},
   "outputs": [
    {
     "data": {
      "text/plain": [
       "[1, 2, 3, 4, 5, 6, 'padma', 'god', 'papa', [12, 13, 14, 15, 'pandu']]"
      ]
     },
     "execution_count": 4,
     "metadata": {},
     "output_type": "execute_result"
    }
   ],
   "source": [
    "l"
   ]
  },
  {
   "cell_type": "code",
   "execution_count": 5,
   "id": "34fda769",
   "metadata": {},
   "outputs": [],
   "source": [
    "l.append({'key' : 'value', 'padma' : 'DS'})"
   ]
  },
  {
   "cell_type": "code",
   "execution_count": 6,
   "id": "db5cbf87",
   "metadata": {},
   "outputs": [
    {
     "data": {
      "text/plain": [
       "[1,\n",
       " 2,\n",
       " 3,\n",
       " 4,\n",
       " 5,\n",
       " 6,\n",
       " 'padma',\n",
       " 'god',\n",
       " 'papa',\n",
       " [12, 13, 14, 15, 'pandu'],\n",
       " {'key': 'value', 'padma': 'DS'}]"
      ]
     },
     "execution_count": 6,
     "metadata": {},
     "output_type": "execute_result"
    }
   ],
   "source": [
    "l"
   ]
  },
  {
   "cell_type": "code",
   "execution_count": 7,
   "id": "5b4958db",
   "metadata": {},
   "outputs": [
    {
     "data": {
      "text/plain": [
       "11"
      ]
     },
     "execution_count": 7,
     "metadata": {},
     "output_type": "execute_result"
    }
   ],
   "source": [
    "len(l)"
   ]
  },
  {
   "cell_type": "code",
   "execution_count": 8,
   "id": "c6307a18",
   "metadata": {},
   "outputs": [
    {
     "data": {
      "text/plain": [
       "{'key': 'value', 'padma': 'DS'}"
      ]
     },
     "execution_count": 8,
     "metadata": {},
     "output_type": "execute_result"
    }
   ],
   "source": [
    "l[10]"
   ]
  },
  {
   "cell_type": "code",
   "execution_count": 9,
   "id": "f49b1e7c",
   "metadata": {},
   "outputs": [
    {
     "data": {
      "text/plain": [
       "'value'"
      ]
     },
     "execution_count": 9,
     "metadata": {},
     "output_type": "execute_result"
    }
   ],
   "source": [
    "l[10]['key']"
   ]
  },
  {
   "cell_type": "code",
   "execution_count": 10,
   "id": "c60248b1",
   "metadata": {},
   "outputs": [
    {
     "data": {
      "text/plain": [
       "[1,\n",
       " 2,\n",
       " 3,\n",
       " 4,\n",
       " 5,\n",
       " 6,\n",
       " 'padma',\n",
       " 'god',\n",
       " 'papa',\n",
       " [12, 13, 14, 15, 'pandu'],\n",
       " {'key': 'value', 'padma': 'DS'}]"
      ]
     },
     "execution_count": 10,
     "metadata": {},
     "output_type": "execute_result"
    }
   ],
   "source": [
    "l"
   ]
  },
  {
   "cell_type": "code",
   "execution_count": 16,
   "id": "ebb963ae",
   "metadata": {},
   "outputs": [
    {
     "ename": "SyntaxError",
     "evalue": "invalid syntax (Temp/ipykernel_5240/134100074.py, line 1)",
     "output_type": "error",
     "traceback": [
      "\u001b[1;36m  File \u001b[1;32m\"C:\\Users\\SREEDH~1\\AppData\\Local\\Temp/ipykernel_5240/134100074.py\"\u001b[1;36m, line \u001b[1;32m1\u001b[0m\n\u001b[1;33m    `l.insert(1,'padma')\u001b[0m\n\u001b[1;37m    ^\u001b[0m\n\u001b[1;31mSyntaxError\u001b[0m\u001b[1;31m:\u001b[0m invalid syntax\n"
     ]
    }
   ],
   "source": [
    "`l.insert(1,'padma')"
   ]
  },
  {
   "cell_type": "code",
   "execution_count": 17,
   "id": "ed6b5ba3",
   "metadata": {},
   "outputs": [],
   "source": [
    "l.insert(0,'pandu')"
   ]
  },
  {
   "cell_type": "code",
   "execution_count": 18,
   "id": "94f9c017",
   "metadata": {},
   "outputs": [
    {
     "data": {
      "text/plain": [
       "['pandu',\n",
       " 'pandu',\n",
       " 1,\n",
       " 2,\n",
       " 3,\n",
       " 4,\n",
       " 5,\n",
       " 6,\n",
       " 'padma',\n",
       " 'god',\n",
       " 'papa',\n",
       " [12, 13, 14, 15, 'pandu'],\n",
       " {'key': 'value', 'padma': 'DS'}]"
      ]
     },
     "execution_count": 18,
     "metadata": {},
     "output_type": "execute_result"
    }
   ],
   "source": [
    "l"
   ]
  },
  {
   "cell_type": "code",
   "execution_count": 21,
   "id": "b64b137a",
   "metadata": {},
   "outputs": [
    {
     "data": {
      "text/plain": [
       "7"
      ]
     },
     "execution_count": 21,
     "metadata": {},
     "output_type": "execute_result"
    }
   ],
   "source": [
    "l.index(6)"
   ]
  },
  {
   "cell_type": "code",
   "execution_count": 22,
   "id": "7c0845ff",
   "metadata": {},
   "outputs": [],
   "source": [
    "l.insert(1, 'DS')"
   ]
  },
  {
   "cell_type": "code",
   "execution_count": 23,
   "id": "5825d360",
   "metadata": {},
   "outputs": [
    {
     "data": {
      "text/plain": [
       "['pandu',\n",
       " 'DS',\n",
       " 'pandu',\n",
       " 1,\n",
       " 2,\n",
       " 3,\n",
       " 4,\n",
       " 5,\n",
       " 6,\n",
       " 'padma',\n",
       " 'god',\n",
       " 'papa',\n",
       " [12, 13, 14, 15, 'pandu'],\n",
       " {'key': 'value', 'padma': 'DS'}]"
      ]
     },
     "execution_count": 23,
     "metadata": {},
     "output_type": "execute_result"
    }
   ],
   "source": [
    "l"
   ]
  },
  {
   "cell_type": "code",
   "execution_count": 24,
   "id": "12e5e315",
   "metadata": {},
   "outputs": [],
   "source": [
    "l.insert(2,[23,45,43,21])"
   ]
  },
  {
   "cell_type": "code",
   "execution_count": 25,
   "id": "71b8027c",
   "metadata": {},
   "outputs": [
    {
     "data": {
      "text/plain": [
       "['pandu',\n",
       " 'DS',\n",
       " [23, 45, 43, 21],\n",
       " 'pandu',\n",
       " 1,\n",
       " 2,\n",
       " 3,\n",
       " 4,\n",
       " 5,\n",
       " 6,\n",
       " 'padma',\n",
       " 'god',\n",
       " 'papa',\n",
       " [12, 13, 14, 15, 'pandu'],\n",
       " {'key': 'value', 'padma': 'DS'}]"
      ]
     },
     "execution_count": 25,
     "metadata": {},
     "output_type": "execute_result"
    }
   ],
   "source": [
    "l"
   ]
  },
  {
   "cell_type": "code",
   "execution_count": 29,
   "id": "e38aa549",
   "metadata": {},
   "outputs": [
    {
     "ename": "TypeError",
     "evalue": "'int' object is not iterable",
     "output_type": "error",
     "traceback": [
      "\u001b[1;31m---------------------------------------------------------------------------\u001b[0m",
      "\u001b[1;31mTypeError\u001b[0m                                 Traceback (most recent call last)",
      "\u001b[1;32mC:\\Users\\SREEDH~1\\AppData\\Local\\Temp/ipykernel_5240/3200271016.py\u001b[0m in \u001b[0;36m<module>\u001b[1;34m\u001b[0m\n\u001b[1;32m----> 1\u001b[1;33m \u001b[0ml\u001b[0m\u001b[1;33m.\u001b[0m\u001b[0mextend\u001b[0m\u001b[1;33m(\u001b[0m\u001b[1;36m1\u001b[0m\u001b[1;33m)\u001b[0m\u001b[1;33m\u001b[0m\u001b[1;33m\u001b[0m\u001b[0m\n\u001b[0m",
      "\u001b[1;31mTypeError\u001b[0m: 'int' object is not iterable"
     ]
    }
   ],
   "source": [
    "l.extend(1)"
   ]
  },
  {
   "cell_type": "code",
   "execution_count": 30,
   "id": "7f880019",
   "metadata": {},
   "outputs": [
    {
     "data": {
      "text/plain": [
       "'pandu'"
      ]
     },
     "execution_count": 30,
     "metadata": {},
     "output_type": "execute_result"
    }
   ],
   "source": [
    "l.pop(3)"
   ]
  },
  {
   "cell_type": "code",
   "execution_count": 31,
   "id": "8d7c98e7",
   "metadata": {},
   "outputs": [
    {
     "data": {
      "text/plain": [
       "['pandu',\n",
       " 'DS',\n",
       " [23, 45, 43, 21],\n",
       " 1,\n",
       " 2,\n",
       " 3,\n",
       " 4,\n",
       " 5,\n",
       " 6,\n",
       " 'padma',\n",
       " 'god',\n",
       " 'papa',\n",
       " [12, 13, 14, 15, 'pandu'],\n",
       " {'key': 'value', 'padma': 'DS'}]"
      ]
     },
     "execution_count": 31,
     "metadata": {},
     "output_type": "execute_result"
    }
   ],
   "source": [
    "l"
   ]
  },
  {
   "cell_type": "code",
   "execution_count": 32,
   "id": "8c817cab",
   "metadata": {},
   "outputs": [
    {
     "data": {
      "text/plain": [
       "[{'key': 'value', 'padma': 'DS'},\n",
       " [12, 13, 14, 15, 'pandu'],\n",
       " 'papa',\n",
       " 'god',\n",
       " 'padma',\n",
       " 6,\n",
       " 5,\n",
       " 4,\n",
       " 3,\n",
       " 2,\n",
       " 1,\n",
       " [23, 45, 43, 21],\n",
       " 'DS',\n",
       " 'pandu']"
      ]
     },
     "execution_count": 32,
     "metadata": {},
     "output_type": "execute_result"
    }
   ],
   "source": [
    "l[::-1]"
   ]
  },
  {
   "cell_type": "code",
   "execution_count": 33,
   "id": "8e5ba545",
   "metadata": {},
   "outputs": [
    {
     "data": {
      "text/plain": [
       "'l'"
      ]
     },
     "execution_count": 33,
     "metadata": {},
     "output_type": "execute_result"
    }
   ],
   "source": [
    "' '.join(reversed('l'))"
   ]
  },
  {
   "cell_type": "code",
   "execution_count": 35,
   "id": "89368a2b",
   "metadata": {},
   "outputs": [],
   "source": [
    "h = \"\"\"hi i ierierueiwrujdkjfalskdjfai;eru\n",
    "kljrieoruejadjfadslkmfa\n",
    "lieureoiwasjdfeioawrueir\n",
    "ldhfaioeruweij\"\"\""
   ]
  },
  {
   "cell_type": "code",
   "execution_count": 36,
   "id": "51eae883",
   "metadata": {},
   "outputs": [
    {
     "data": {
      "text/plain": [
       "'HI I IERIERUEIWRUJDKJFALSKDJFAI;ERU\\nKLJRIEORUEJADJFADSLKMFA\\nLIEUREOIWASJDFEIOAWRUEIR\\nLDHFAIOERUWEIJ'"
      ]
     },
     "execution_count": 36,
     "metadata": {},
     "output_type": "execute_result"
    }
   ],
   "source": [
    "h.upper()"
   ]
  },
  {
   "cell_type": "code",
   "execution_count": 37,
   "id": "5ee71bbd",
   "metadata": {},
   "outputs": [
    {
     "data": {
      "text/plain": [
       "'hi i ierierueiwrujdkjfalskdjfai;eru\\nkljrieoruejadjfadslkmfa\\nlieureoiwasjdfeioawrueir\\nldhfaioeruweij'"
      ]
     },
     "execution_count": 37,
     "metadata": {},
     "output_type": "execute_result"
    }
   ],
   "source": [
    "h.lower()"
   ]
  },
  {
   "cell_type": "code",
   "execution_count": 38,
   "id": "eefd1511",
   "metadata": {},
   "outputs": [
    {
     "data": {
      "text/plain": [
       "'Hi i ierierueiwrujdkjfalskdjfai;eru\\nkljrieoruejadjfadslkmfa\\nlieureoiwasjdfeioawrueir\\nldhfaioeruweij'"
      ]
     },
     "execution_count": 38,
     "metadata": {},
     "output_type": "execute_result"
    }
   ],
   "source": [
    "h.capitalize()"
   ]
  },
  {
   "cell_type": "code",
   "execution_count": 39,
   "id": "bf343eb8",
   "metadata": {},
   "outputs": [
    {
     "data": {
      "text/plain": [
       "'HI I IERIERUEIWRUJDKJFALSKDJFAI;ERU\\nKLJRIEORUEJADJFADSLKMFA\\nLIEUREOIWASJDFEIOAWRUEIR\\nLDHFAIOERUWEIJ'"
      ]
     },
     "execution_count": 39,
     "metadata": {},
     "output_type": "execute_result"
    }
   ],
   "source": [
    "h.swapcase()"
   ]
  },
  {
   "cell_type": "code",
   "execution_count": 40,
   "id": "20e75b6b",
   "metadata": {},
   "outputs": [
    {
     "data": {
      "text/plain": [
       "['hi',\n",
       " 'i',\n",
       " 'ierierueiwrujdkjfalskdjfai;eru',\n",
       " 'kljrieoruejadjfadslkmfa',\n",
       " 'lieureoiwasjdfeioawrueir',\n",
       " 'ldhfaioeruweij']"
      ]
     },
     "execution_count": 40,
     "metadata": {},
     "output_type": "execute_result"
    }
   ],
   "source": [
    "h.split()"
   ]
  },
  {
   "cell_type": "code",
   "execution_count": 42,
   "id": "276c5bdf",
   "metadata": {},
   "outputs": [
    {
     "data": {
      "text/plain": [
       "'hi i ierierueiwrujdkjfalskdjfai;eru\\nkljrieoruejadjfadslkmfa\\nlieureoiwasjdfeioawrueir\\nldhfaioeruweij'"
      ]
     },
     "execution_count": 42,
     "metadata": {},
     "output_type": "execute_result"
    }
   ],
   "source": [
    "h.expandtabs(5)"
   ]
  },
  {
   "cell_type": "code",
   "execution_count": 46,
   "id": "5fd37b7e",
   "metadata": {},
   "outputs": [
    {
     "data": {
      "text/plain": [
       "99"
      ]
     },
     "execution_count": 46,
     "metadata": {},
     "output_type": "execute_result"
    }
   ],
   "source": [
    "len(h)"
   ]
  },
  {
   "cell_type": "code",
   "execution_count": 51,
   "id": "bcd59872",
   "metadata": {},
   "outputs": [
    {
     "ename": "SyntaxError",
     "evalue": "invalid syntax (Temp/ipykernel_5240/2459221787.py, line 1)",
     "output_type": "error",
     "traceback": [
      "\u001b[1;36m  File \u001b[1;32m\"C:\\Users\\SREEDH~1\\AppData\\Local\\Temp/ipykernel_5240/2459221787.py\"\u001b[1;36m, line \u001b[1;32m1\u001b[0m\n\u001b[1;33m    'h'.center(@)\u001b[0m\n\u001b[1;37m               ^\u001b[0m\n\u001b[1;31mSyntaxError\u001b[0m\u001b[1;31m:\u001b[0m invalid syntax\n"
     ]
    }
   ],
   "source": [
    "'h'.center(@)"
   ]
  },
  {
   "cell_type": "code",
   "execution_count": 54,
   "id": "66d9f76f",
   "metadata": {},
   "outputs": [
    {
     "ename": "TypeError",
     "evalue": "replace() argument 1 must be str, not int",
     "output_type": "error",
     "traceback": [
      "\u001b[1;31m---------------------------------------------------------------------------\u001b[0m",
      "\u001b[1;31mTypeError\u001b[0m                                 Traceback (most recent call last)",
      "\u001b[1;32mC:\\Users\\SREEDH~1\\AppData\\Local\\Temp/ipykernel_5240/518775484.py\u001b[0m in \u001b[0;36m<module>\u001b[1;34m\u001b[0m\n\u001b[1;32m----> 1\u001b[1;33m \u001b[0mh\u001b[0m\u001b[1;33m.\u001b[0m\u001b[0mreplace\u001b[0m\u001b[1;33m(\u001b[0m\u001b[1;36m1\u001b[0m\u001b[1;33m,\u001b[0m \u001b[1;34m'hello'\u001b[0m\u001b[1;33m)\u001b[0m\u001b[1;33m\u001b[0m\u001b[1;33m\u001b[0m\u001b[0m\n\u001b[0m",
      "\u001b[1;31mTypeError\u001b[0m: replace() argument 1 must be str, not int"
     ]
    }
   ],
   "source": [
    "h.replace(1, 'hello')"
   ]
  },
  {
   "cell_type": "code",
   "execution_count": 55,
   "id": "d37d2d22",
   "metadata": {},
   "outputs": [
    {
     "data": {
      "text/plain": [
       "['pandu',\n",
       " 'DS',\n",
       " [23, 45, 43, 21],\n",
       " 1,\n",
       " 2,\n",
       " 3,\n",
       " 4,\n",
       " 5,\n",
       " 6,\n",
       " 'padma',\n",
       " 'god',\n",
       " 'papa',\n",
       " [12, 13, 14, 15, 'pandu'],\n",
       " {'key': 'value', 'padma': 'DS'}]"
      ]
     },
     "execution_count": 55,
     "metadata": {},
     "output_type": "execute_result"
    }
   ],
   "source": [
    "l"
   ]
  },
  {
   "cell_type": "code",
   "execution_count": 56,
   "id": "9681e7fe",
   "metadata": {},
   "outputs": [],
   "source": [
    "l.remove(1)"
   ]
  },
  {
   "cell_type": "code",
   "execution_count": 57,
   "id": "ccf44fa7",
   "metadata": {},
   "outputs": [
    {
     "data": {
      "text/plain": [
       "['pandu',\n",
       " 'DS',\n",
       " [23, 45, 43, 21],\n",
       " 2,\n",
       " 3,\n",
       " 4,\n",
       " 5,\n",
       " 6,\n",
       " 'padma',\n",
       " 'god',\n",
       " 'papa',\n",
       " [12, 13, 14, 15, 'pandu'],\n",
       " {'key': 'value', 'padma': 'DS'}]"
      ]
     },
     "execution_count": 57,
     "metadata": {},
     "output_type": "execute_result"
    }
   ],
   "source": [
    "l"
   ]
  },
  {
   "cell_type": "code",
   "execution_count": 58,
   "id": "1e4c7255",
   "metadata": {},
   "outputs": [],
   "source": [
    "l[3] = 'ineuron'"
   ]
  },
  {
   "cell_type": "code",
   "execution_count": 59,
   "id": "4866f1bf",
   "metadata": {},
   "outputs": [
    {
     "data": {
      "text/plain": [
       "['pandu',\n",
       " 'DS',\n",
       " [23, 45, 43, 21],\n",
       " 'ineuron',\n",
       " 3,\n",
       " 4,\n",
       " 5,\n",
       " 6,\n",
       " 'padma',\n",
       " 'god',\n",
       " 'papa',\n",
       " [12, 13, 14, 15, 'pandu'],\n",
       " {'key': 'value', 'padma': 'DS'}]"
      ]
     },
     "execution_count": 59,
     "metadata": {},
     "output_type": "execute_result"
    }
   ],
   "source": [
    "l"
   ]
  },
  {
   "cell_type": "code",
   "execution_count": 60,
   "id": "9a07e16a",
   "metadata": {},
   "outputs": [],
   "source": [
    "t = (4,5,6,87,65,23.56,'god')"
   ]
  },
  {
   "cell_type": "code",
   "execution_count": 61,
   "id": "56e37c1c",
   "metadata": {},
   "outputs": [
    {
     "data": {
      "text/plain": [
       "tuple"
      ]
     },
     "execution_count": 61,
     "metadata": {},
     "output_type": "execute_result"
    }
   ],
   "source": [
    "type(t)"
   ]
  },
  {
   "cell_type": "code",
   "execution_count": 62,
   "id": "691d5419",
   "metadata": {},
   "outputs": [
    {
     "data": {
      "text/plain": [
       "7"
      ]
     },
     "execution_count": 62,
     "metadata": {},
     "output_type": "execute_result"
    }
   ],
   "source": [
    "len(t)"
   ]
  },
  {
   "cell_type": "code",
   "execution_count": 64,
   "id": "68e93979",
   "metadata": {},
   "outputs": [
    {
     "data": {
      "text/plain": [
       "1"
      ]
     },
     "execution_count": 64,
     "metadata": {},
     "output_type": "execute_result"
    }
   ],
   "source": [
    "t.count(5)"
   ]
  },
  {
   "cell_type": "code",
   "execution_count": 65,
   "id": "9355d4a7",
   "metadata": {},
   "outputs": [
    {
     "data": {
      "text/plain": [
       "0"
      ]
     },
     "execution_count": 65,
     "metadata": {},
     "output_type": "execute_result"
    }
   ],
   "source": [
    "t.index(4)"
   ]
  },
  {
   "cell_type": "code",
   "execution_count": 66,
   "id": "83c93bb3",
   "metadata": {},
   "outputs": [
    {
     "data": {
      "text/plain": [
       "1"
      ]
     },
     "execution_count": 66,
     "metadata": {},
     "output_type": "execute_result"
    }
   ],
   "source": [
    "t.index(5)"
   ]
  },
  {
   "cell_type": "code",
   "execution_count": 67,
   "id": "caaaace7",
   "metadata": {},
   "outputs": [
    {
     "data": {
      "text/plain": [
       "6"
      ]
     },
     "execution_count": 67,
     "metadata": {},
     "output_type": "execute_result"
    }
   ],
   "source": [
    "t.index('god')"
   ]
  },
  {
   "cell_type": "code",
   "execution_count": 68,
   "id": "dd5365cd",
   "metadata": {},
   "outputs": [
    {
     "data": {
      "text/plain": [
       "(4, 5, 6, 87, 65, 23.56, 'god')"
      ]
     },
     "execution_count": 68,
     "metadata": {},
     "output_type": "execute_result"
    }
   ],
   "source": [
    "t"
   ]
  },
  {
   "cell_type": "code",
   "execution_count": 69,
   "id": "14de0367",
   "metadata": {},
   "outputs": [
    {
     "data": {
      "text/plain": [
       "65"
      ]
     },
     "execution_count": 69,
     "metadata": {},
     "output_type": "execute_result"
    }
   ],
   "source": [
    "t[4]"
   ]
  },
  {
   "cell_type": "code",
   "execution_count": 70,
   "id": "a15dd33a",
   "metadata": {},
   "outputs": [
    {
     "data": {
      "text/plain": [
       "('god', 23.56, 65, 87, 6, 5, 4)"
      ]
     },
     "execution_count": 70,
     "metadata": {},
     "output_type": "execute_result"
    }
   ],
   "source": [
    "t[::-1]"
   ]
  },
  {
   "cell_type": "code",
   "execution_count": 71,
   "id": "3f4fd2d9",
   "metadata": {},
   "outputs": [
    {
     "data": {
      "text/plain": [
       "(4, 6, 65, 'god')"
      ]
     },
     "execution_count": 71,
     "metadata": {},
     "output_type": "execute_result"
    }
   ],
   "source": [
    "t[: :2]"
   ]
  },
  {
   "cell_type": "code",
   "execution_count": 72,
   "id": "36404a8f",
   "metadata": {},
   "outputs": [
    {
     "ename": "TypeError",
     "evalue": "'tuple' object does not support item assignment",
     "output_type": "error",
     "traceback": [
      "\u001b[1;31m---------------------------------------------------------------------------\u001b[0m",
      "\u001b[1;31mTypeError\u001b[0m                                 Traceback (most recent call last)",
      "\u001b[1;32mC:\\Users\\SREEDH~1\\AppData\\Local\\Temp/ipykernel_5240/2793237515.py\u001b[0m in \u001b[0;36m<module>\u001b[1;34m\u001b[0m\n\u001b[1;32m----> 1\u001b[1;33m \u001b[0mt\u001b[0m\u001b[1;33m[\u001b[0m\u001b[1;36m2\u001b[0m\u001b[1;33m]\u001b[0m \u001b[1;33m=\u001b[0m \u001b[1;34m'hai'\u001b[0m\u001b[1;33m\u001b[0m\u001b[1;33m\u001b[0m\u001b[0m\n\u001b[0m",
      "\u001b[1;31mTypeError\u001b[0m: 'tuple' object does not support item assignment"
     ]
    }
   ],
   "source": [
    "t[2] = 'hai'"
   ]
  },
  {
   "cell_type": "code",
   "execution_count": 73,
   "id": "20224eb1",
   "metadata": {},
   "outputs": [
    {
     "data": {
      "text/plain": [
       "[4, 5, 6, 87, 65, 23.56, 'god']"
      ]
     },
     "execution_count": 73,
     "metadata": {},
     "output_type": "execute_result"
    }
   ],
   "source": [
    "list(t)"
   ]
  },
  {
   "cell_type": "code",
   "execution_count": 74,
   "id": "be5db71c",
   "metadata": {},
   "outputs": [
    {
     "data": {
      "text/plain": [
       "('pandu',\n",
       " 'DS',\n",
       " [23, 45, 43, 21],\n",
       " 'ineuron',\n",
       " 3,\n",
       " 4,\n",
       " 5,\n",
       " 6,\n",
       " 'padma',\n",
       " 'god',\n",
       " 'papa',\n",
       " [12, 13, 14, 15, 'pandu'],\n",
       " {'key': 'value', 'padma': 'DS'})"
      ]
     },
     "execution_count": 74,
     "metadata": {},
     "output_type": "execute_result"
    }
   ],
   "source": [
    "tuple(l)"
   ]
  },
  {
   "cell_type": "code",
   "execution_count": 75,
   "id": "648c1d16",
   "metadata": {},
   "outputs": [
    {
     "data": {
      "text/plain": [
       "['pandu',\n",
       " 'DS',\n",
       " [23, 45, 43, 21],\n",
       " 'ineuron',\n",
       " 3,\n",
       " 4,\n",
       " 5,\n",
       " 6,\n",
       " 'padma',\n",
       " 'god',\n",
       " 'papa',\n",
       " [12, 13, 14, 15, 'pandu'],\n",
       " {'key': 'value', 'padma': 'DS'}]"
      ]
     },
     "execution_count": 75,
     "metadata": {},
     "output_type": "execute_result"
    }
   ],
   "source": [
    "l"
   ]
  },
  {
   "cell_type": "code",
   "execution_count": 76,
   "id": "d123913e",
   "metadata": {},
   "outputs": [
    {
     "data": {
      "text/plain": [
       "dict"
      ]
     },
     "execution_count": 76,
     "metadata": {},
     "output_type": "execute_result"
    }
   ],
   "source": [
    "d = {}\n",
    "type(d)"
   ]
  },
  {
   "cell_type": "code",
   "execution_count": 77,
   "id": "83822dea",
   "metadata": {},
   "outputs": [],
   "source": [
    "d = {'key1': 'ineuron', 'key2' : 'padma', 'key3' : 'papa'}"
   ]
  },
  {
   "cell_type": "code",
   "execution_count": 78,
   "id": "fbf64c24",
   "metadata": {},
   "outputs": [
    {
     "data": {
      "text/plain": [
       "{'key1': 'ineuron', 'key2': 'padma', 'key3': 'papa'}"
      ]
     },
     "execution_count": 78,
     "metadata": {},
     "output_type": "execute_result"
    }
   ],
   "source": [
    "d"
   ]
  },
  {
   "cell_type": "code",
   "execution_count": 79,
   "id": "fd9d94d7",
   "metadata": {},
   "outputs": [
    {
     "data": {
      "text/plain": [
       "3"
      ]
     },
     "execution_count": 79,
     "metadata": {},
     "output_type": "execute_result"
    }
   ],
   "source": [
    "len(d)"
   ]
  },
  {
   "cell_type": "code",
   "execution_count": 80,
   "id": "6bc00e04",
   "metadata": {},
   "outputs": [
    {
     "data": {
      "text/plain": [
       "dict_keys(['key1', 'key2', 'key3'])"
      ]
     },
     "execution_count": 80,
     "metadata": {},
     "output_type": "execute_result"
    }
   ],
   "source": [
    "d.keys()"
   ]
  },
  {
   "cell_type": "code",
   "execution_count": 81,
   "id": "de15f1e8",
   "metadata": {},
   "outputs": [
    {
     "data": {
      "text/plain": [
       "dict_values(['ineuron', 'padma', 'papa'])"
      ]
     },
     "execution_count": 81,
     "metadata": {},
     "output_type": "execute_result"
    }
   ],
   "source": [
    "d.values()"
   ]
  },
  {
   "cell_type": "code",
   "execution_count": 84,
   "id": "4c9e5746",
   "metadata": {},
   "outputs": [
    {
     "data": {
      "text/plain": [
       "True"
      ]
     },
     "execution_count": 84,
     "metadata": {},
     "output_type": "execute_result"
    }
   ],
   "source": [
    "'papa' in d['key3']"
   ]
  },
  {
   "cell_type": "code",
   "execution_count": 85,
   "id": "52ad2368",
   "metadata": {},
   "outputs": [],
   "source": [
    "d1 = {'key1' : 'value' , 234 :'xyz', 'name' :'god', 'no':'2345'}"
   ]
  },
  {
   "cell_type": "code",
   "execution_count": 86,
   "id": "0faf4630",
   "metadata": {},
   "outputs": [
    {
     "data": {
      "text/plain": [
       "dict"
      ]
     },
     "execution_count": 86,
     "metadata": {},
     "output_type": "execute_result"
    }
   ],
   "source": [
    "type(d1)"
   ]
  },
  {
   "cell_type": "code",
   "execution_count": 90,
   "id": "514f1317",
   "metadata": {},
   "outputs": [
    {
     "data": {
      "text/plain": [
       "'god'"
      ]
     },
     "execution_count": 90,
     "metadata": {},
     "output_type": "execute_result"
    }
   ],
   "source": [
    "d1['name']"
   ]
  },
  {
   "cell_type": "code",
   "execution_count": 89,
   "id": "5caa5756",
   "metadata": {},
   "outputs": [
    {
     "data": {
      "text/plain": [
       "'2345'"
      ]
     },
     "execution_count": 89,
     "metadata": {},
     "output_type": "execute_result"
    }
   ],
   "source": [
    "d1['no']"
   ]
  },
  {
   "cell_type": "code",
   "execution_count": 91,
   "id": "25cabe66",
   "metadata": {},
   "outputs": [],
   "source": [
    "d3 = {'name' : 'padma', 'tech' :['python','ml','dl','nlp','ds']}"
   ]
  },
  {
   "cell_type": "code",
   "execution_count": 96,
   "id": "5491581d",
   "metadata": {},
   "outputs": [
    {
     "data": {
      "text/plain": [
       "True"
      ]
     },
     "execution_count": 96,
     "metadata": {},
     "output_type": "execute_result"
    }
   ],
   "source": [
    "'ml' in d3['tech']"
   ]
  },
  {
   "cell_type": "code",
   "execution_count": 97,
   "id": "8572a93a",
   "metadata": {},
   "outputs": [
    {
     "data": {
      "text/plain": [
       "False"
      ]
     },
     "execution_count": 97,
     "metadata": {},
     "output_type": "execute_result"
    }
   ],
   "source": [
    "'cv' in d3['tech']"
   ]
  },
  {
   "cell_type": "code",
   "execution_count": 98,
   "id": "a4fbc59b",
   "metadata": {},
   "outputs": [],
   "source": [
    "d3['key1'] = \"papa\""
   ]
  },
  {
   "cell_type": "code",
   "execution_count": 99,
   "id": "cb869a03",
   "metadata": {},
   "outputs": [
    {
     "data": {
      "text/plain": [
       "{'name': 'padma', 'tech': ['python', 'ml', 'dl', 'nlp', 'ds'], 'key1': 'papa'}"
      ]
     },
     "execution_count": 99,
     "metadata": {},
     "output_type": "execute_result"
    }
   ],
   "source": [
    "d3"
   ]
  },
  {
   "cell_type": "code",
   "execution_count": 100,
   "id": "d304c52f",
   "metadata": {},
   "outputs": [],
   "source": [
    "d3['no'] = 23456743"
   ]
  },
  {
   "cell_type": "code",
   "execution_count": 101,
   "id": "31118ea5",
   "metadata": {},
   "outputs": [
    {
     "data": {
      "text/plain": [
       "{'name': 'padma',\n",
       " 'tech': ['python', 'ml', 'dl', 'nlp', 'ds'],\n",
       " 'key1': 'papa',\n",
       " 'no': 23456743}"
      ]
     },
     "execution_count": 101,
     "metadata": {},
     "output_type": "execute_result"
    }
   ],
   "source": [
    "d3"
   ]
  },
  {
   "cell_type": "code",
   "execution_count": 102,
   "id": "9394f05f",
   "metadata": {},
   "outputs": [],
   "source": [
    "d4 = {'hi' : 'hello', 'ds': 'datascience', 'ineuron' :'institute'}"
   ]
  },
  {
   "cell_type": "code",
   "execution_count": 103,
   "id": "f6114c62",
   "metadata": {},
   "outputs": [],
   "source": [
    "d3['name'] = d4"
   ]
  },
  {
   "cell_type": "code",
   "execution_count": 104,
   "id": "63889c73",
   "metadata": {},
   "outputs": [
    {
     "data": {
      "text/plain": [
       "{'name': {'hi': 'hello', 'ds': 'datascience', 'ineuron': 'institute'},\n",
       " 'tech': ['python', 'ml', 'dl', 'nlp', 'ds'],\n",
       " 'key1': 'papa',\n",
       " 'no': 23456743}"
      ]
     },
     "execution_count": 104,
     "metadata": {},
     "output_type": "execute_result"
    }
   ],
   "source": [
    "d3"
   ]
  },
  {
   "cell_type": "code",
   "execution_count": 107,
   "id": "355e967d",
   "metadata": {},
   "outputs": [],
   "source": [
    "d3['key1'] = 'good'"
   ]
  },
  {
   "cell_type": "code",
   "execution_count": 108,
   "id": "dd95b2ea",
   "metadata": {},
   "outputs": [
    {
     "data": {
      "text/plain": [
       "{'name': {'hi': 'hello', 'ds': 'datascience', 'ineuron': 'institute'},\n",
       " 'tech': ['python', 'ml', 'dl', 'nlp', 'ds'],\n",
       " 'key1': 'good',\n",
       " 'no': 23456743}"
      ]
     },
     "execution_count": 108,
     "metadata": {},
     "output_type": "execute_result"
    }
   ],
   "source": [
    "d3"
   ]
  },
  {
   "cell_type": "code",
   "execution_count": 109,
   "id": "cb58aec6",
   "metadata": {},
   "outputs": [
    {
     "data": {
      "text/plain": [
       "['python', 'ml', 'dl', 'nlp', 'ds']"
      ]
     },
     "execution_count": 109,
     "metadata": {},
     "output_type": "execute_result"
    }
   ],
   "source": [
    "d3['tech']"
   ]
  },
  {
   "cell_type": "code",
   "execution_count": 110,
   "id": "0d8c358b",
   "metadata": {},
   "outputs": [
    {
     "ename": "TypeError",
     "evalue": "list indices must be integers or slices, not str",
     "output_type": "error",
     "traceback": [
      "\u001b[1;31m---------------------------------------------------------------------------\u001b[0m",
      "\u001b[1;31mTypeError\u001b[0m                                 Traceback (most recent call last)",
      "\u001b[1;32mC:\\Users\\SREEDH~1\\AppData\\Local\\Temp/ipykernel_5240/3588107388.py\u001b[0m in \u001b[0;36m<module>\u001b[1;34m\u001b[0m\n\u001b[1;32m----> 1\u001b[1;33m \u001b[0md3\u001b[0m\u001b[1;33m[\u001b[0m\u001b[1;34m'tech'\u001b[0m\u001b[1;33m]\u001b[0m \u001b[1;33m[\u001b[0m\u001b[1;34m'ml'\u001b[0m\u001b[1;33m]\u001b[0m\u001b[1;33m\u001b[0m\u001b[1;33m\u001b[0m\u001b[0m\n\u001b[0m",
      "\u001b[1;31mTypeError\u001b[0m: list indices must be integers or slices, not str"
     ]
    }
   ],
   "source": [
    "d3['tech'] ['ml']"
   ]
  },
  {
   "cell_type": "code",
   "execution_count": 111,
   "id": "09a350da",
   "metadata": {},
   "outputs": [
    {
     "data": {
      "text/plain": [
       "{'hi': 'hello', 'ds': 'datascience', 'ineuron': 'institute'}"
      ]
     },
     "execution_count": 111,
     "metadata": {},
     "output_type": "execute_result"
    }
   ],
   "source": [
    "d3['name']"
   ]
  },
  {
   "cell_type": "code",
   "execution_count": 112,
   "id": "cdb2712d",
   "metadata": {},
   "outputs": [
    {
     "data": {
      "text/plain": [
       "'datascience'"
      ]
     },
     "execution_count": 112,
     "metadata": {},
     "output_type": "execute_result"
    }
   ],
   "source": [
    "d3['name']['ds']"
   ]
  },
  {
   "cell_type": "code",
   "execution_count": 113,
   "id": "86377f36",
   "metadata": {},
   "outputs": [],
   "source": [
    "s = {1,2,3,45,5,5,5,6,6,6,34,2,2,4,54,5,}"
   ]
  },
  {
   "cell_type": "code",
   "execution_count": 114,
   "id": "f0c20ed6",
   "metadata": {},
   "outputs": [
    {
     "data": {
      "text/plain": [
       "{1, 2, 3, 4, 5, 6, 34, 45, 54}"
      ]
     },
     "execution_count": 114,
     "metadata": {},
     "output_type": "execute_result"
    }
   ],
   "source": [
    "s"
   ]
  },
  {
   "cell_type": "code",
   "execution_count": 115,
   "id": "fa19089b",
   "metadata": {},
   "outputs": [
    {
     "ename": "TypeError",
     "evalue": "'set' object is not subscriptable",
     "output_type": "error",
     "traceback": [
      "\u001b[1;31m---------------------------------------------------------------------------\u001b[0m",
      "\u001b[1;31mTypeError\u001b[0m                                 Traceback (most recent call last)",
      "\u001b[1;32mC:\\Users\\SREEDH~1\\AppData\\Local\\Temp/ipykernel_5240/878419959.py\u001b[0m in \u001b[0;36m<module>\u001b[1;34m\u001b[0m\n\u001b[1;32m----> 1\u001b[1;33m \u001b[0ms\u001b[0m\u001b[1;33m[\u001b[0m\u001b[1;36m1\u001b[0m\u001b[1;33m]\u001b[0m\u001b[1;33m\u001b[0m\u001b[1;33m\u001b[0m\u001b[0m\n\u001b[0m",
      "\u001b[1;31mTypeError\u001b[0m: 'set' object is not subscriptable"
     ]
    }
   ],
   "source": [
    "s[1]"
   ]
  },
  {
   "cell_type": "code",
   "execution_count": 116,
   "id": "c2f24e86",
   "metadata": {},
   "outputs": [
    {
     "ename": "TypeError",
     "evalue": "unsupported operand type(s) for +: 'set' and 'int'",
     "output_type": "error",
     "traceback": [
      "\u001b[1;31m---------------------------------------------------------------------------\u001b[0m",
      "\u001b[1;31mTypeError\u001b[0m                                 Traceback (most recent call last)",
      "\u001b[1;32mC:\\Users\\SREEDH~1\\AppData\\Local\\Temp/ipykernel_5240/3519921828.py\u001b[0m in \u001b[0;36m<module>\u001b[1;34m\u001b[0m\n\u001b[1;32m----> 1\u001b[1;33m \u001b[0ms\u001b[0m\u001b[1;33m+\u001b[0m\u001b[1;36m1\u001b[0m\u001b[1;33m\u001b[0m\u001b[1;33m\u001b[0m\u001b[0m\n\u001b[0m",
      "\u001b[1;31mTypeError\u001b[0m: unsupported operand type(s) for +: 'set' and 'int'"
     ]
    }
   ],
   "source": [
    "s+1"
   ]
  },
  {
   "cell_type": "code",
   "execution_count": 117,
   "id": "8a2ebed3",
   "metadata": {},
   "outputs": [
    {
     "data": {
      "text/plain": [
       "set"
      ]
     },
     "execution_count": 117,
     "metadata": {},
     "output_type": "execute_result"
    }
   ],
   "source": [
    "type(s)"
   ]
  },
  {
   "cell_type": "code",
   "execution_count": 118,
   "id": "ba943756",
   "metadata": {},
   "outputs": [
    {
     "data": {
      "text/plain": [
       "9"
      ]
     },
     "execution_count": 118,
     "metadata": {},
     "output_type": "execute_result"
    }
   ],
   "source": [
    "len(s)"
   ]
  },
  {
   "cell_type": "code",
   "execution_count": 119,
   "id": "19cc7e50",
   "metadata": {},
   "outputs": [],
   "source": [
    "s.add(10)"
   ]
  },
  {
   "cell_type": "code",
   "execution_count": 120,
   "id": "3b410e24",
   "metadata": {},
   "outputs": [
    {
     "data": {
      "text/plain": [
       "{1, 2, 3, 4, 5, 6, 10, 34, 45, 54}"
      ]
     },
     "execution_count": 120,
     "metadata": {},
     "output_type": "execute_result"
    }
   ],
   "source": [
    "s"
   ]
  },
  {
   "cell_type": "code",
   "execution_count": 121,
   "id": "ca6c0695",
   "metadata": {},
   "outputs": [],
   "source": [
    "s.add('padma')"
   ]
  },
  {
   "cell_type": "code",
   "execution_count": 122,
   "id": "c62110f9",
   "metadata": {},
   "outputs": [
    {
     "data": {
      "text/plain": [
       "{1, 10, 2, 3, 34, 4, 45, 5, 54, 6, 'padma'}"
      ]
     },
     "execution_count": 122,
     "metadata": {},
     "output_type": "execute_result"
    }
   ],
   "source": [
    "s"
   ]
  },
  {
   "cell_type": "code",
   "execution_count": 123,
   "id": "c692dc6a",
   "metadata": {},
   "outputs": [
    {
     "ename": "TypeError",
     "evalue": "unhashable type: 'list'",
     "output_type": "error",
     "traceback": [
      "\u001b[1;31m---------------------------------------------------------------------------\u001b[0m",
      "\u001b[1;31mTypeError\u001b[0m                                 Traceback (most recent call last)",
      "\u001b[1;32mC:\\Users\\SREEDH~1\\AppData\\Local\\Temp/ipykernel_5240/703235956.py\u001b[0m in \u001b[0;36m<module>\u001b[1;34m\u001b[0m\n\u001b[1;32m----> 1\u001b[1;33m \u001b[0ms\u001b[0m\u001b[1;33m.\u001b[0m\u001b[0madd\u001b[0m\u001b[1;33m(\u001b[0m\u001b[1;33m[\u001b[0m\u001b[1;36m21\u001b[0m\u001b[1;33m,\u001b[0m\u001b[1;36m23\u001b[0m\u001b[1;33m,\u001b[0m\u001b[1;36m43\u001b[0m\u001b[1;33m,\u001b[0m\u001b[1;36m24\u001b[0m\u001b[1;33m,\u001b[0m\u001b[1;36m45\u001b[0m\u001b[1;33m]\u001b[0m\u001b[1;33m)\u001b[0m\u001b[1;33m\u001b[0m\u001b[1;33m\u001b[0m\u001b[0m\n\u001b[0m",
      "\u001b[1;31mTypeError\u001b[0m: unhashable type: 'list'"
     ]
    }
   ],
   "source": [
    "s.add([21,23,43,24,45])"
   ]
  },
  {
   "cell_type": "code",
   "execution_count": 124,
   "id": "6fb9cc90",
   "metadata": {},
   "outputs": [
    {
     "ename": "TypeError",
     "evalue": "'set' object is not subscriptable",
     "output_type": "error",
     "traceback": [
      "\u001b[1;31m---------------------------------------------------------------------------\u001b[0m",
      "\u001b[1;31mTypeError\u001b[0m                                 Traceback (most recent call last)",
      "\u001b[1;32mC:\\Users\\SREEDH~1\\AppData\\Local\\Temp/ipykernel_5240/3199264858.py\u001b[0m in \u001b[0;36m<module>\u001b[1;34m\u001b[0m\n\u001b[1;32m----> 1\u001b[1;33m \u001b[0ms\u001b[0m\u001b[1;33m[\u001b[0m\u001b[1;33m:\u001b[0m\u001b[1;33m:\u001b[0m\u001b[1;33m-\u001b[0m\u001b[1;36m1\u001b[0m\u001b[1;33m]\u001b[0m\u001b[1;33m\u001b[0m\u001b[1;33m\u001b[0m\u001b[0m\n\u001b[0m",
      "\u001b[1;31mTypeError\u001b[0m: 'set' object is not subscriptable"
     ]
    }
   ],
   "source": [
    "s[::-1]"
   ]
  },
  {
   "cell_type": "code",
   "execution_count": 125,
   "id": "1a8c030c",
   "metadata": {},
   "outputs": [
    {
     "ename": "TypeError",
     "evalue": "'set' object is not subscriptable",
     "output_type": "error",
     "traceback": [
      "\u001b[1;31m---------------------------------------------------------------------------\u001b[0m",
      "\u001b[1;31mTypeError\u001b[0m                                 Traceback (most recent call last)",
      "\u001b[1;32mC:\\Users\\SREEDH~1\\AppData\\Local\\Temp/ipykernel_5240/483806021.py\u001b[0m in \u001b[0;36m<module>\u001b[1;34m\u001b[0m\n\u001b[1;32m----> 1\u001b[1;33m \u001b[0ms\u001b[0m\u001b[1;33m[\u001b[0m\u001b[1;33m:\u001b[0m\u001b[1;33m:\u001b[0m\u001b[1;33m]\u001b[0m\u001b[1;33m\u001b[0m\u001b[1;33m\u001b[0m\u001b[0m\n\u001b[0m",
      "\u001b[1;31mTypeError\u001b[0m: 'set' object is not subscriptable"
     ]
    }
   ],
   "source": [
    "s[::]"
   ]
  },
  {
   "cell_type": "code",
   "execution_count": 126,
   "id": "f7b40f87",
   "metadata": {},
   "outputs": [
    {
     "data": {
      "text/plain": [
       "{1, 10, 2, 3, 34, 4, 45, 5, 54, 6, 'padma'}"
      ]
     },
     "execution_count": 126,
     "metadata": {},
     "output_type": "execute_result"
    }
   ],
   "source": [
    "s"
   ]
  },
  {
   "cell_type": "code",
   "execution_count": 127,
   "id": "9ecdcb23",
   "metadata": {},
   "outputs": [],
   "source": [
    "s.discard(2)"
   ]
  },
  {
   "cell_type": "code",
   "execution_count": 128,
   "id": "282ba7ee",
   "metadata": {},
   "outputs": [
    {
     "data": {
      "text/plain": [
       "{1, 10, 3, 34, 4, 45, 5, 54, 6, 'padma'}"
      ]
     },
     "execution_count": 128,
     "metadata": {},
     "output_type": "execute_result"
    }
   ],
   "source": [
    "s"
   ]
  },
  {
   "cell_type": "code",
   "execution_count": 129,
   "id": "62a7d82f",
   "metadata": {},
   "outputs": [],
   "source": [
    "s.remove(1)"
   ]
  },
  {
   "cell_type": "code",
   "execution_count": 130,
   "id": "b06278a0",
   "metadata": {},
   "outputs": [
    {
     "data": {
      "text/plain": [
       "{10, 3, 34, 4, 45, 5, 54, 6, 'padma'}"
      ]
     },
     "execution_count": 130,
     "metadata": {},
     "output_type": "execute_result"
    }
   ],
   "source": [
    "s"
   ]
  },
  {
   "cell_type": "code",
   "execution_count": 131,
   "id": "21bff8a1",
   "metadata": {},
   "outputs": [
    {
     "data": {
      "text/plain": [
       "[3, 34, 5, 6, 4, 10, 45, 'padma', 54]"
      ]
     },
     "execution_count": 131,
     "metadata": {},
     "output_type": "execute_result"
    }
   ],
   "source": [
    "list(s)"
   ]
  },
  {
   "cell_type": "code",
   "execution_count": 132,
   "id": "0cc274eb",
   "metadata": {},
   "outputs": [
    {
     "data": {
      "text/plain": [
       "{10, 3, 34, 4, 45, 5, 54, 6, 'padma'}"
      ]
     },
     "execution_count": 132,
     "metadata": {},
     "output_type": "execute_result"
    }
   ],
   "source": [
    "s"
   ]
  },
  {
   "cell_type": "code",
   "execution_count": 133,
   "id": "0e5f04f7",
   "metadata": {},
   "outputs": [
    {
     "data": {
      "text/plain": [
       "(3, 34, 5, 6, 4, 10, 45, 'padma', 54)"
      ]
     },
     "execution_count": 133,
     "metadata": {},
     "output_type": "execute_result"
    }
   ],
   "source": [
    "tuple(s)"
   ]
  },
  {
   "cell_type": "code",
   "execution_count": 134,
   "id": "a1d37bd7",
   "metadata": {},
   "outputs": [
    {
     "data": {
      "text/plain": [
       "{23.56, 4, 5, 6, 65, 87, 'god'}"
      ]
     },
     "execution_count": 134,
     "metadata": {},
     "output_type": "execute_result"
    }
   ],
   "source": [
    "set(t)"
   ]
  },
  {
   "cell_type": "code",
   "execution_count": 135,
   "id": "5871de26",
   "metadata": {},
   "outputs": [],
   "source": [
    "l = [3,4,5,6,7,[23,456,67,8,78,78], [345,56,87,8,98,9], (234,6657,6), {'key1' : 'sudh', 234 : [23,45,656]}]"
   ]
  },
  {
   "cell_type": "code",
   "execution_count": 136,
   "id": "972f690b",
   "metadata": {},
   "outputs": [
    {
     "data": {
      "text/plain": [
       "[{'key1': 'sudh', 234: [23, 45, 656]},\n",
       " (234, 6657, 6),\n",
       " [345, 56, 87, 8, 98, 9],\n",
       " [23, 456, 67, 8, 78, 78],\n",
       " 7,\n",
       " 6,\n",
       " 5,\n",
       " 4,\n",
       " 3]"
      ]
     },
     "execution_count": 136,
     "metadata": {},
     "output_type": "execute_result"
    }
   ],
   "source": [
    "l[::-1]"
   ]
  },
  {
   "cell_type": "code",
   "execution_count": 144,
   "id": "3a9703a8",
   "metadata": {},
   "outputs": [],
   "source": [
    "l2 = l.reverse()"
   ]
  },
  {
   "cell_type": "code",
   "execution_count": 145,
   "id": "dccadc2d",
   "metadata": {},
   "outputs": [
    {
     "data": {
      "text/plain": [
       "[{'key1': 'sudh', 234: [23, 45, 656]},\n",
       " (234, 6657, 6),\n",
       " [345, 56, 87, 8, 98, 9],\n",
       " [23, 456, 67, 8, 78, 78],\n",
       " 7,\n",
       " 6,\n",
       " 5,\n",
       " 4,\n",
       " 3]"
      ]
     },
     "execution_count": 145,
     "metadata": {},
     "output_type": "execute_result"
    }
   ],
   "source": [
    "l"
   ]
  },
  {
   "cell_type": "code",
   "execution_count": 143,
   "id": "38f7e963",
   "metadata": {},
   "outputs": [],
   "source": [
    "l2"
   ]
  },
  {
   "cell_type": "code",
   "execution_count": 146,
   "id": "c1b1a695",
   "metadata": {},
   "outputs": [
    {
     "data": {
      "text/plain": [
       "(234, 6657, 6)"
      ]
     },
     "execution_count": 146,
     "metadata": {},
     "output_type": "execute_result"
    }
   ],
   "source": [
    "l[1]"
   ]
  },
  {
   "cell_type": "code",
   "execution_count": 147,
   "id": "37100cb1",
   "metadata": {},
   "outputs": [
    {
     "data": {
      "text/plain": [
       "234"
      ]
     },
     "execution_count": 147,
     "metadata": {},
     "output_type": "execute_result"
    }
   ],
   "source": [
    "l[1][0]"
   ]
  },
  {
   "cell_type": "code",
   "execution_count": 148,
   "id": "d2f71489",
   "metadata": {},
   "outputs": [
    {
     "data": {
      "text/plain": [
       "[23, 456, 67, 8, 78, 78]"
      ]
     },
     "execution_count": 148,
     "metadata": {},
     "output_type": "execute_result"
    }
   ],
   "source": [
    "l[3]"
   ]
  },
  {
   "cell_type": "code",
   "execution_count": 149,
   "id": "c0597a58",
   "metadata": {},
   "outputs": [
    {
     "data": {
      "text/plain": [
       "456"
      ]
     },
     "execution_count": 149,
     "metadata": {},
     "output_type": "execute_result"
    }
   ],
   "source": [
    "l[3][1]"
   ]
  },
  {
   "cell_type": "code",
   "execution_count": 151,
   "id": "c5ffe25f",
   "metadata": {},
   "outputs": [
    {
     "data": {
      "text/plain": [
       "([345, 56, 87, 8, 98, 9], [23, 456, 67, 8, 78, 78])"
      ]
     },
     "execution_count": 151,
     "metadata": {},
     "output_type": "execute_result"
    }
   ],
   "source": [
    "l[2],l[3]"
   ]
  },
  {
   "cell_type": "code",
   "execution_count": 152,
   "id": "79e80dbb",
   "metadata": {},
   "outputs": [
    {
     "data": {
      "text/plain": [
       "{'key1': 'sudh', 234: [23, 45, 656]}"
      ]
     },
     "execution_count": 152,
     "metadata": {},
     "output_type": "execute_result"
    }
   ],
   "source": [
    "l[0]"
   ]
  },
  {
   "cell_type": "code",
   "execution_count": 153,
   "id": "c2d4c479",
   "metadata": {},
   "outputs": [
    {
     "data": {
      "text/plain": [
       "'sudh'"
      ]
     },
     "execution_count": 153,
     "metadata": {},
     "output_type": "execute_result"
    }
   ],
   "source": [
    "l[0]['key1']"
   ]
  },
  {
   "cell_type": "code",
   "execution_count": 154,
   "id": "eb1dcc66",
   "metadata": {},
   "outputs": [
    {
     "data": {
      "text/plain": [
       "dict_keys(['key1', 234])"
      ]
     },
     "execution_count": 154,
     "metadata": {},
     "output_type": "execute_result"
    }
   ],
   "source": [
    "l[0].keys()"
   ]
  },
  {
   "cell_type": "code",
   "execution_count": 155,
   "id": "2f070c9d",
   "metadata": {},
   "outputs": [
    {
     "data": {
      "text/plain": [
       "dict_values(['sudh', [23, 45, 656]])"
      ]
     },
     "execution_count": 155,
     "metadata": {},
     "output_type": "execute_result"
    }
   ],
   "source": [
    "l[0].values()"
   ]
  },
  {
   "cell_type": "code",
   "execution_count": null,
   "id": "64f33b17",
   "metadata": {},
   "outputs": [],
   "source": []
  }
 ],
 "metadata": {
  "kernelspec": {
   "display_name": "Python 3 (ipykernel)",
   "language": "python",
   "name": "python3"
  },
  "language_info": {
   "codemirror_mode": {
    "name": "ipython",
    "version": 3
   },
   "file_extension": ".py",
   "mimetype": "text/x-python",
   "name": "python",
   "nbconvert_exporter": "python",
   "pygments_lexer": "ipython3",
   "version": "3.9.7"
  }
 },
 "nbformat": 4,
 "nbformat_minor": 5
}
